{
 "cells": [
  {
   "cell_type": "markdown",
   "id": "bc96ec10",
   "metadata": {},
   "source": [
    "# Decision Tree ML technique for Smoking Data "
   ]
  },
  {
   "cell_type": "code",
   "execution_count": 1,
   "id": "92eec210",
   "metadata": {},
   "outputs": [],
   "source": [
    "import pandas as pd\n",
    "df = pd.read_csv('Smoking Data.csv')"
   ]
  },
  {
   "cell_type": "code",
   "execution_count": 2,
   "id": "de900716",
   "metadata": {},
   "outputs": [
    {
     "data": {
      "text/html": [
       "<div>\n",
       "<style scoped>\n",
       "    .dataframe tbody tr th:only-of-type {\n",
       "        vertical-align: middle;\n",
       "    }\n",
       "\n",
       "    .dataframe tbody tr th {\n",
       "        vertical-align: top;\n",
       "    }\n",
       "\n",
       "    .dataframe thead th {\n",
       "        text-align: right;\n",
       "    }\n",
       "</style>\n",
       "<table border=\"1\" class=\"dataframe\">\n",
       "  <thead>\n",
       "    <tr style=\"text-align: right;\">\n",
       "      <th></th>\n",
       "      <th>region</th>\n",
       "      <th>age</th>\n",
       "      <th>sex</th>\n",
       "      <th>bmi</th>\n",
       "      <th>children</th>\n",
       "      <th>smoker</th>\n",
       "    </tr>\n",
       "  </thead>\n",
       "  <tbody>\n",
       "    <tr>\n",
       "      <th>0</th>\n",
       "      <td>southwest</td>\n",
       "      <td>19</td>\n",
       "      <td>female</td>\n",
       "      <td>27.900</td>\n",
       "      <td>0</td>\n",
       "      <td>yes</td>\n",
       "    </tr>\n",
       "    <tr>\n",
       "      <th>1</th>\n",
       "      <td>southeast</td>\n",
       "      <td>18</td>\n",
       "      <td>male</td>\n",
       "      <td>33.770</td>\n",
       "      <td>1</td>\n",
       "      <td>no</td>\n",
       "    </tr>\n",
       "    <tr>\n",
       "      <th>2</th>\n",
       "      <td>southeast</td>\n",
       "      <td>28</td>\n",
       "      <td>male</td>\n",
       "      <td>33.000</td>\n",
       "      <td>3</td>\n",
       "      <td>no</td>\n",
       "    </tr>\n",
       "    <tr>\n",
       "      <th>3</th>\n",
       "      <td>northwest</td>\n",
       "      <td>33</td>\n",
       "      <td>male</td>\n",
       "      <td>22.705</td>\n",
       "      <td>0</td>\n",
       "      <td>no</td>\n",
       "    </tr>\n",
       "    <tr>\n",
       "      <th>4</th>\n",
       "      <td>northwest</td>\n",
       "      <td>32</td>\n",
       "      <td>male</td>\n",
       "      <td>28.880</td>\n",
       "      <td>0</td>\n",
       "      <td>no</td>\n",
       "    </tr>\n",
       "  </tbody>\n",
       "</table>\n",
       "</div>"
      ],
      "text/plain": [
       "      region  age     sex     bmi  children smoker\n",
       "0  southwest   19  female  27.900         0    yes\n",
       "1  southeast   18    male  33.770         1     no\n",
       "2  southeast   28    male  33.000         3     no\n",
       "3  northwest   33    male  22.705         0     no\n",
       "4  northwest   32    male  28.880         0     no"
      ]
     },
     "execution_count": 2,
     "metadata": {},
     "output_type": "execute_result"
    }
   ],
   "source": [
    "df.head()"
   ]
  },
  {
   "cell_type": "code",
   "execution_count": 3,
   "id": "ee6300ee",
   "metadata": {},
   "outputs": [
    {
     "name": "stdout",
     "output_type": "stream",
     "text": [
      "<class 'pandas.core.frame.DataFrame'>\n",
      "RangeIndex: 1338 entries, 0 to 1337\n",
      "Data columns (total 6 columns):\n",
      " #   Column    Non-Null Count  Dtype  \n",
      "---  ------    --------------  -----  \n",
      " 0   region    1338 non-null   object \n",
      " 1   age       1338 non-null   int64  \n",
      " 2   sex       1338 non-null   object \n",
      " 3   bmi       1338 non-null   float64\n",
      " 4   children  1338 non-null   int64  \n",
      " 5   smoker    1338 non-null   object \n",
      "dtypes: float64(1), int64(2), object(3)\n",
      "memory usage: 62.8+ KB\n"
     ]
    }
   ],
   "source": [
    "df.info()"
   ]
  },
  {
   "cell_type": "code",
   "execution_count": 4,
   "id": "243efb9d",
   "metadata": {},
   "outputs": [
    {
     "data": {
      "text/plain": [
       "(1338, 6)"
      ]
     },
     "execution_count": 4,
     "metadata": {},
     "output_type": "execute_result"
    }
   ],
   "source": [
    "df.shape"
   ]
  },
  {
   "cell_type": "code",
   "execution_count": 5,
   "id": "b591e45a",
   "metadata": {},
   "outputs": [
    {
     "data": {
      "text/plain": [
       "region      0\n",
       "age         0\n",
       "sex         0\n",
       "bmi         0\n",
       "children    0\n",
       "smoker      0\n",
       "dtype: int64"
      ]
     },
     "execution_count": 5,
     "metadata": {},
     "output_type": "execute_result"
    }
   ],
   "source": [
    "df.isnull().sum()"
   ]
  },
  {
   "cell_type": "markdown",
   "id": "c2250a1b",
   "metadata": {},
   "source": [
    "# Label Encoding for the data"
   ]
  },
  {
   "cell_type": "code",
   "execution_count": 6,
   "id": "e29f4950",
   "metadata": {},
   "outputs": [],
   "source": [
    "from sklearn.preprocessing import LabelEncoder\n",
    "le=LabelEncoder()"
   ]
  },
  {
   "cell_type": "code",
   "execution_count": 7,
   "id": "0b33e8a8",
   "metadata": {},
   "outputs": [
    {
     "data": {
      "text/plain": [
       "array(['southwest', 'southeast', 'northwest', 'northeast'], dtype=object)"
      ]
     },
     "execution_count": 7,
     "metadata": {},
     "output_type": "execute_result"
    }
   ],
   "source": [
    "df.region.unique()"
   ]
  },
  {
   "cell_type": "code",
   "execution_count": 8,
   "id": "e300de54",
   "metadata": {},
   "outputs": [
    {
     "data": {
      "text/plain": [
       "array(['female', 'male'], dtype=object)"
      ]
     },
     "execution_count": 8,
     "metadata": {},
     "output_type": "execute_result"
    }
   ],
   "source": [
    "df.sex.unique()"
   ]
  },
  {
   "cell_type": "code",
   "execution_count": 9,
   "id": "a9a7f07b",
   "metadata": {},
   "outputs": [
    {
     "data": {
      "text/html": [
       "<div>\n",
       "<style scoped>\n",
       "    .dataframe tbody tr th:only-of-type {\n",
       "        vertical-align: middle;\n",
       "    }\n",
       "\n",
       "    .dataframe tbody tr th {\n",
       "        vertical-align: top;\n",
       "    }\n",
       "\n",
       "    .dataframe thead th {\n",
       "        text-align: right;\n",
       "    }\n",
       "</style>\n",
       "<table border=\"1\" class=\"dataframe\">\n",
       "  <thead>\n",
       "    <tr style=\"text-align: right;\">\n",
       "      <th></th>\n",
       "      <th>region</th>\n",
       "      <th>age</th>\n",
       "      <th>sex</th>\n",
       "      <th>bmi</th>\n",
       "      <th>children</th>\n",
       "      <th>smoker</th>\n",
       "    </tr>\n",
       "  </thead>\n",
       "  <tbody>\n",
       "    <tr>\n",
       "      <th>0</th>\n",
       "      <td>3</td>\n",
       "      <td>19</td>\n",
       "      <td>0</td>\n",
       "      <td>27.900</td>\n",
       "      <td>0</td>\n",
       "      <td>1</td>\n",
       "    </tr>\n",
       "    <tr>\n",
       "      <th>1</th>\n",
       "      <td>2</td>\n",
       "      <td>18</td>\n",
       "      <td>1</td>\n",
       "      <td>33.770</td>\n",
       "      <td>1</td>\n",
       "      <td>0</td>\n",
       "    </tr>\n",
       "    <tr>\n",
       "      <th>2</th>\n",
       "      <td>2</td>\n",
       "      <td>28</td>\n",
       "      <td>1</td>\n",
       "      <td>33.000</td>\n",
       "      <td>3</td>\n",
       "      <td>0</td>\n",
       "    </tr>\n",
       "    <tr>\n",
       "      <th>3</th>\n",
       "      <td>1</td>\n",
       "      <td>33</td>\n",
       "      <td>1</td>\n",
       "      <td>22.705</td>\n",
       "      <td>0</td>\n",
       "      <td>0</td>\n",
       "    </tr>\n",
       "    <tr>\n",
       "      <th>4</th>\n",
       "      <td>1</td>\n",
       "      <td>32</td>\n",
       "      <td>1</td>\n",
       "      <td>28.880</td>\n",
       "      <td>0</td>\n",
       "      <td>0</td>\n",
       "    </tr>\n",
       "  </tbody>\n",
       "</table>\n",
       "</div>"
      ],
      "text/plain": [
       "   region  age  sex     bmi  children  smoker\n",
       "0       3   19    0  27.900         0       1\n",
       "1       2   18    1  33.770         1       0\n",
       "2       2   28    1  33.000         3       0\n",
       "3       1   33    1  22.705         0       0\n",
       "4       1   32    1  28.880         0       0"
      ]
     },
     "execution_count": 9,
     "metadata": {},
     "output_type": "execute_result"
    }
   ],
   "source": [
    "df.region=le.fit_transform(df['region'])\n",
    "df.sex=le.fit_transform(df['sex'])\n",
    "df.smoker=le.fit_transform(df['smoker'])\n",
    "\n",
    "df.head()"
   ]
  },
  {
   "cell_type": "code",
   "execution_count": 10,
   "id": "0ecce01d",
   "metadata": {},
   "outputs": [
    {
     "data": {
      "text/plain": [
       "array([3, 2, 1, 0])"
      ]
     },
     "execution_count": 10,
     "metadata": {},
     "output_type": "execute_result"
    }
   ],
   "source": [
    "df.region.unique()"
   ]
  },
  {
   "cell_type": "code",
   "execution_count": 11,
   "id": "af61cad5",
   "metadata": {},
   "outputs": [
    {
     "data": {
      "text/plain": [
       "array([0, 1])"
      ]
     },
     "execution_count": 11,
     "metadata": {},
     "output_type": "execute_result"
    }
   ],
   "source": [
    "df.sex.unique()"
   ]
  },
  {
   "cell_type": "code",
   "execution_count": 12,
   "id": "010309e9",
   "metadata": {},
   "outputs": [],
   "source": [
    "#southwest = 3', 'southeast =2', 'northwest=1', 'northeast=0\n",
    "# female = 0, male=1\n",
    "\n",
    "\n",
    "x = df.drop('smoker',axis=1)\n",
    "y = df.smoker"
   ]
  },
  {
   "cell_type": "code",
   "execution_count": 13,
   "id": "c37ae643",
   "metadata": {},
   "outputs": [
    {
     "data": {
      "text/html": [
       "<div>\n",
       "<style scoped>\n",
       "    .dataframe tbody tr th:only-of-type {\n",
       "        vertical-align: middle;\n",
       "    }\n",
       "\n",
       "    .dataframe tbody tr th {\n",
       "        vertical-align: top;\n",
       "    }\n",
       "\n",
       "    .dataframe thead th {\n",
       "        text-align: right;\n",
       "    }\n",
       "</style>\n",
       "<table border=\"1\" class=\"dataframe\">\n",
       "  <thead>\n",
       "    <tr style=\"text-align: right;\">\n",
       "      <th></th>\n",
       "      <th>region</th>\n",
       "      <th>age</th>\n",
       "      <th>sex</th>\n",
       "      <th>bmi</th>\n",
       "      <th>children</th>\n",
       "    </tr>\n",
       "  </thead>\n",
       "  <tbody>\n",
       "    <tr>\n",
       "      <th>0</th>\n",
       "      <td>3</td>\n",
       "      <td>19</td>\n",
       "      <td>0</td>\n",
       "      <td>27.900</td>\n",
       "      <td>0</td>\n",
       "    </tr>\n",
       "    <tr>\n",
       "      <th>1</th>\n",
       "      <td>2</td>\n",
       "      <td>18</td>\n",
       "      <td>1</td>\n",
       "      <td>33.770</td>\n",
       "      <td>1</td>\n",
       "    </tr>\n",
       "    <tr>\n",
       "      <th>2</th>\n",
       "      <td>2</td>\n",
       "      <td>28</td>\n",
       "      <td>1</td>\n",
       "      <td>33.000</td>\n",
       "      <td>3</td>\n",
       "    </tr>\n",
       "    <tr>\n",
       "      <th>3</th>\n",
       "      <td>1</td>\n",
       "      <td>33</td>\n",
       "      <td>1</td>\n",
       "      <td>22.705</td>\n",
       "      <td>0</td>\n",
       "    </tr>\n",
       "    <tr>\n",
       "      <th>4</th>\n",
       "      <td>1</td>\n",
       "      <td>32</td>\n",
       "      <td>1</td>\n",
       "      <td>28.880</td>\n",
       "      <td>0</td>\n",
       "    </tr>\n",
       "  </tbody>\n",
       "</table>\n",
       "</div>"
      ],
      "text/plain": [
       "   region  age  sex     bmi  children\n",
       "0       3   19    0  27.900         0\n",
       "1       2   18    1  33.770         1\n",
       "2       2   28    1  33.000         3\n",
       "3       1   33    1  22.705         0\n",
       "4       1   32    1  28.880         0"
      ]
     },
     "execution_count": 13,
     "metadata": {},
     "output_type": "execute_result"
    }
   ],
   "source": [
    "x.head()"
   ]
  },
  {
   "cell_type": "markdown",
   "id": "ac67215a",
   "metadata": {},
   "source": [
    "# Spliting the dataset for train and test"
   ]
  },
  {
   "cell_type": "code",
   "execution_count": 14,
   "id": "c7107ee5",
   "metadata": {},
   "outputs": [],
   "source": [
    "from sklearn.model_selection import train_test_split as tts\n",
    "xtrain,xtest,ytrain,ytest=tts(x,y,train_size=.70, random_state=280)"
   ]
  },
  {
   "cell_type": "code",
   "execution_count": 15,
   "id": "7758526f",
   "metadata": {},
   "outputs": [
    {
     "data": {
      "text/plain": [
       "(936, 5)"
      ]
     },
     "execution_count": 15,
     "metadata": {},
     "output_type": "execute_result"
    }
   ],
   "source": [
    "xtrain.shape"
   ]
  },
  {
   "cell_type": "code",
   "execution_count": 16,
   "id": "5d13fd46",
   "metadata": {},
   "outputs": [
    {
     "data": {
      "text/plain": [
       "(402, 5)"
      ]
     },
     "execution_count": 16,
     "metadata": {},
     "output_type": "execute_result"
    }
   ],
   "source": [
    "xtest.shape"
   ]
  },
  {
   "cell_type": "markdown",
   "id": "f1a01739",
   "metadata": {},
   "source": [
    "# Training ML Decision Tree Model"
   ]
  },
  {
   "cell_type": "code",
   "execution_count": 17,
   "id": "f54fa81f",
   "metadata": {},
   "outputs": [
    {
     "data": {
      "text/plain": [
       "DecisionTreeClassifier()"
      ]
     },
     "execution_count": 17,
     "metadata": {},
     "output_type": "execute_result"
    }
   ],
   "source": [
    "from sklearn.tree import DecisionTreeClassifier\n",
    "clf=DecisionTreeClassifier()\n",
    "clf.fit(xtrain,ytrain)"
   ]
  },
  {
   "cell_type": "markdown",
   "id": "f485c615",
   "metadata": {},
   "source": [
    "# Plot a decision tree diagram"
   ]
  },
  {
   "cell_type": "code",
   "execution_count": 18,
   "id": "206b26eb",
   "metadata": {},
   "outputs": [],
   "source": [
    "from sklearn import tree\n",
    "import matplotlib.pyplot as plt"
   ]
  },
  {
   "cell_type": "code",
   "execution_count": 30,
   "id": "fa5530f6",
   "metadata": {},
   "outputs": [
    {
     "data": {
      "text/plain": [
       "[Text(274.5152447455752, 640.24, 'sex <= 0.5\\ngini = 0.336\\nsamples = 936\\nvalue = [736, 200]'),\n",
       " Text(115.7383750790139, 616.08, 'bmi <= 22.995\\ngini = 0.304\\nsamples = 455\\nvalue = [370, 85]'),\n",
       " Text(36.6826801517067, 591.9200000000001, 'children <= 1.5\\ngini = 0.473\\nsamples = 47\\nvalue = [29, 18]'),\n",
       " Text(19.75221238938053, 567.76, 'bmi <= 20.045\\ngini = 0.415\\nsamples = 34\\nvalue = [24, 10]'),\n",
       " Text(16.93046776232617, 543.6, 'gini = 0.0\\nsamples = 8\\nvalue = [8, 0]'),\n",
       " Text(22.573957016434893, 543.6, 'bmi <= 21.898\\ngini = 0.473\\nsamples = 26\\nvalue = [16, 10]'),\n",
       " Text(11.286978508217446, 519.44, 'region <= 0.5\\ngini = 0.497\\nsamples = 13\\nvalue = [6, 7]'),\n",
       " Text(5.643489254108723, 495.2800000000001, 'age <= 35.0\\ngini = 0.245\\nsamples = 7\\nvalue = [1, 6]'),\n",
       " Text(2.8217446270543616, 471.12000000000006, 'gini = 0.0\\nsamples = 5\\nvalue = [0, 5]'),\n",
       " Text(8.465233881163085, 471.12000000000006, 'age <= 42.5\\ngini = 0.5\\nsamples = 2\\nvalue = [1, 1]'),\n",
       " Text(5.643489254108723, 446.96000000000004, 'gini = 0.0\\nsamples = 1\\nvalue = [1, 0]'),\n",
       " Text(11.286978508217446, 446.96000000000004, 'gini = 0.0\\nsamples = 1\\nvalue = [0, 1]'),\n",
       " Text(16.93046776232617, 495.2800000000001, 'region <= 2.5\\ngini = 0.278\\nsamples = 6\\nvalue = [5, 1]'),\n",
       " Text(14.108723135271807, 471.12000000000006, 'gini = 0.0\\nsamples = 5\\nvalue = [5, 0]'),\n",
       " Text(19.75221238938053, 471.12000000000006, 'gini = 0.0\\nsamples = 1\\nvalue = [0, 1]'),\n",
       " Text(33.86093552465234, 519.44, 'bmi <= 22.825\\ngini = 0.355\\nsamples = 13\\nvalue = [10, 3]'),\n",
       " Text(28.217446270543615, 495.2800000000001, 'age <= 20.5\\ngini = 0.18\\nsamples = 10\\nvalue = [9, 1]'),\n",
       " Text(25.395701643489254, 471.12000000000006, 'age <= 19.5\\ngini = 0.5\\nsamples = 2\\nvalue = [1, 1]'),\n",
       " Text(22.573957016434893, 446.96000000000004, 'gini = 0.0\\nsamples = 1\\nvalue = [1, 0]'),\n",
       " Text(28.217446270543615, 446.96000000000004, 'gini = 0.0\\nsamples = 1\\nvalue = [0, 1]'),\n",
       " Text(31.039190897597976, 471.12000000000006, 'gini = 0.0\\nsamples = 8\\nvalue = [8, 0]'),\n",
       " Text(39.50442477876106, 495.2800000000001, 'region <= 1.0\\ngini = 0.444\\nsamples = 3\\nvalue = [1, 2]'),\n",
       " Text(36.6826801517067, 471.12000000000006, 'gini = 0.0\\nsamples = 1\\nvalue = [1, 0]'),\n",
       " Text(42.32616940581542, 471.12000000000006, 'gini = 0.0\\nsamples = 2\\nvalue = [0, 2]'),\n",
       " Text(53.61314791403287, 567.76, 'children <= 2.5\\ngini = 0.473\\nsamples = 13\\nvalue = [5, 8]'),\n",
       " Text(45.147914032869785, 543.6, 'age <= 37.0\\ngini = 0.245\\nsamples = 7\\nvalue = [1, 6]'),\n",
       " Text(42.32616940581542, 519.44, 'gini = 0.0\\nsamples = 4\\nvalue = [0, 4]'),\n",
       " Text(47.96965865992415, 519.44, 'bmi <= 19.76\\ngini = 0.444\\nsamples = 3\\nvalue = [1, 2]'),\n",
       " Text(45.147914032869785, 495.2800000000001, 'gini = 0.0\\nsamples = 1\\nvalue = [1, 0]'),\n",
       " Text(50.79140328697851, 495.2800000000001, 'gini = 0.0\\nsamples = 2\\nvalue = [0, 2]'),\n",
       " Text(62.07838179519595, 543.6, 'children <= 4.0\\ngini = 0.444\\nsamples = 6\\nvalue = [4, 2]'),\n",
       " Text(59.256637168141594, 519.44, 'age <= 28.5\\ngini = 0.32\\nsamples = 5\\nvalue = [4, 1]'),\n",
       " Text(56.43489254108723, 495.2800000000001, 'age <= 24.5\\ngini = 0.5\\nsamples = 2\\nvalue = [1, 1]'),\n",
       " Text(53.61314791403287, 471.12000000000006, 'gini = 0.0\\nsamples = 1\\nvalue = [1, 0]'),\n",
       " Text(59.256637168141594, 471.12000000000006, 'gini = 0.0\\nsamples = 1\\nvalue = [0, 1]'),\n",
       " Text(62.07838179519595, 495.2800000000001, 'gini = 0.0\\nsamples = 3\\nvalue = [3, 0]'),\n",
       " Text(64.90012642225031, 519.44, 'gini = 0.0\\nsamples = 1\\nvalue = [0, 1]'),\n",
       " Text(194.7940700063211, 591.9200000000001, 'age <= 62.5\\ngini = 0.274\\nsamples = 408\\nvalue = [341, 67]'),\n",
       " Text(153.26702749683943, 567.76, 'region <= 2.5\\ngini = 0.265\\nsamples = 395\\nvalue = [333, 62]'),\n",
       " Text(96.31408027812896, 543.6, 'bmi <= 23.653\\ngini = 0.293\\nsamples = 297\\nvalue = [244, 53]'),\n",
       " Text(93.49233565107458, 519.44, 'gini = 0.0\\nsamples = 12\\nvalue = [12, 0]'),\n",
       " Text(99.13582490518331, 519.44, 'bmi <= 23.75\\ngini = 0.303\\nsamples = 285\\nvalue = [232, 53]'),\n",
       " Text(96.31408027812896, 495.2800000000001, 'gini = 0.0\\nsamples = 2\\nvalue = [0, 2]'),\n",
       " Text(101.95756953223767, 495.2800000000001, 'bmi <= 24.773\\ngini = 0.295\\nsamples = 283\\nvalue = [232, 51]'),\n",
       " Text(64.90012642225031, 471.12000000000006, 'bmi <= 24.653\\ngini = 0.459\\nsamples = 14\\nvalue = [9, 5]'),\n",
       " Text(62.07838179519595, 446.96000000000004, 'age <= 48.0\\ngini = 0.375\\nsamples = 12\\nvalue = [9, 3]'),\n",
       " Text(56.43489254108723, 422.80000000000007, 'bmi <= 24.37\\ngini = 0.219\\nsamples = 8\\nvalue = [7, 1]'),\n",
       " Text(53.61314791403287, 398.64000000000004, 'gini = 0.0\\nsamples = 7\\nvalue = [7, 0]'),\n",
       " Text(59.256637168141594, 398.64000000000004, 'gini = 0.0\\nsamples = 1\\nvalue = [0, 1]'),\n",
       " Text(67.72187104930468, 422.80000000000007, 'age <= 53.0\\ngini = 0.5\\nsamples = 4\\nvalue = [2, 2]'),\n",
       " Text(64.90012642225031, 398.64000000000004, 'gini = 0.0\\nsamples = 2\\nvalue = [0, 2]'),\n",
       " Text(70.54361567635904, 398.64000000000004, 'gini = 0.0\\nsamples = 2\\nvalue = [2, 0]'),\n",
       " Text(67.72187104930468, 446.96000000000004, 'gini = 0.0\\nsamples = 2\\nvalue = [0, 2]'),\n",
       " Text(139.01501264222503, 471.12000000000006, 'bmi <= 35.175\\ngini = 0.284\\nsamples = 269\\nvalue = [223, 46]'),\n",
       " Text(102.37642225031605, 446.96000000000004, 'region <= 0.5\\ngini = 0.25\\nsamples = 191\\nvalue = [163, 28]'),\n",
       " Text(81.83059418457648, 422.80000000000007, 'bmi <= 26.22\\ngini = 0.103\\nsamples = 55\\nvalue = [52, 3]'),\n",
       " Text(76.18710493046777, 398.64000000000004, 'age <= 41.5\\ngini = 0.408\\nsamples = 7\\nvalue = [5, 2]'),\n",
       " Text(73.3653603034134, 374.4800000000001, 'gini = 0.0\\nsamples = 3\\nvalue = [3, 0]'),\n",
       " Text(79.00884955752213, 374.4800000000001, 'children <= 1.5\\ngini = 0.5\\nsamples = 4\\nvalue = [2, 2]'),\n",
       " Text(76.18710493046777, 350.32000000000005, 'gini = 0.0\\nsamples = 2\\nvalue = [0, 2]'),\n",
       " Text(81.83059418457648, 350.32000000000005, 'gini = 0.0\\nsamples = 2\\nvalue = [2, 0]'),\n",
       " Text(87.47408343868521, 398.64000000000004, 'bmi <= 31.825\\ngini = 0.041\\nsamples = 48\\nvalue = [47, 1]'),\n",
       " Text(84.65233881163084, 374.4800000000001, 'gini = 0.0\\nsamples = 31\\nvalue = [31, 0]'),\n",
       " Text(90.29582806573957, 374.4800000000001, 'bmi <= 32.11\\ngini = 0.111\\nsamples = 17\\nvalue = [16, 1]'),\n",
       " Text(87.47408343868521, 350.32000000000005, 'gini = 0.0\\nsamples = 1\\nvalue = [0, 1]'),\n",
       " Text(93.11757269279393, 350.32000000000005, 'gini = 0.0\\nsamples = 16\\nvalue = [16, 0]'),\n",
       " Text(122.92225031605562, 422.80000000000007, 'bmi <= 26.358\\ngini = 0.3\\nsamples = 136\\nvalue = [111, 25]'),\n",
       " Text(120.10050568900127, 398.64000000000004, 'gini = 0.0\\nsamples = 16\\nvalue = [16, 0]'),\n",
       " Text(125.74399494310998, 398.64000000000004, 'bmi <= 33.132\\ngini = 0.33\\nsamples = 120\\nvalue = [95, 25]'),\n",
       " Text(113.92793931731985, 374.4800000000001, 'bmi <= 32.34\\ngini = 0.37\\nsamples = 98\\nvalue = [74, 24]'),\n",
       " Text(98.76106194690266, 350.32000000000005, 'bmi <= 31.2\\ngini = 0.328\\nsamples = 87\\nvalue = [69, 18]'),\n",
       " Text(95.9393173198483, 326.16, 'age <= 23.5\\ngini = 0.368\\nsamples = 74\\nvalue = [56, 18]'),\n",
       " Text(79.71428571428571, 302.00000000000006, 'bmi <= 28.12\\ngini = 0.494\\nsamples = 9\\nvalue = [4, 5]'),\n",
       " Text(76.89254108723135, 277.84000000000003, 'gini = 0.0\\nsamples = 2\\nvalue = [2, 0]'),\n",
       " Text(82.53603034134008, 277.84000000000003, 'bmi <= 28.85\\ngini = 0.408\\nsamples = 7\\nvalue = [2, 5]'),\n",
       " Text(76.89254108723135, 253.68000000000006, 'region <= 1.5\\ngini = 0.5\\nsamples = 2\\nvalue = [1, 1]'),\n",
       " Text(74.070796460177, 229.52000000000004, 'gini = 0.0\\nsamples = 1\\nvalue = [0, 1]'),\n",
       " Text(79.71428571428571, 229.52000000000004, 'gini = 0.0\\nsamples = 1\\nvalue = [1, 0]'),\n",
       " Text(88.1795195954488, 253.68000000000006, 'bmi <= 30.448\\ngini = 0.32\\nsamples = 5\\nvalue = [1, 4]'),\n",
       " Text(85.35777496839444, 229.52000000000004, 'gini = 0.0\\nsamples = 3\\nvalue = [0, 3]'),\n",
       " Text(91.00126422250317, 229.52000000000004, 'children <= 1.5\\ngini = 0.5\\nsamples = 2\\nvalue = [1, 1]'),\n",
       " Text(88.1795195954488, 205.36000000000007, 'gini = 0.0\\nsamples = 1\\nvalue = [1, 0]'),\n",
       " Text(93.82300884955752, 205.36000000000007, 'gini = 0.0\\nsamples = 1\\nvalue = [0, 1]'),\n",
       " Text(112.16434892541088, 302.00000000000006, 'bmi <= 26.405\\ngini = 0.32\\nsamples = 65\\nvalue = [52, 13]'),\n",
       " Text(109.3426042983565, 277.84000000000003, 'gini = 0.0\\nsamples = 1\\nvalue = [0, 1]'),\n",
       " Text(114.98609355246523, 277.84000000000003, 'bmi <= 31.145\\ngini = 0.305\\nsamples = 64\\nvalue = [52, 12]'),\n",
       " Text(112.16434892541088, 253.68000000000006, 'children <= 1.5\\ngini = 0.288\\nsamples = 63\\nvalue = [52, 11]'),\n",
       " Text(105.10998735777497, 229.52000000000004, 'age <= 56.5\\ngini = 0.351\\nsamples = 44\\nvalue = [34, 10]'),\n",
       " Text(99.46649810366624, 205.36000000000007, 'age <= 47.5\\ngini = 0.32\\nsamples = 40\\nvalue = [32, 8]'),\n",
       " Text(96.64475347661188, 181.20000000000005, 'bmi <= 28.655\\ngini = 0.375\\nsamples = 32\\nvalue = [24, 8]'),\n",
       " Text(91.00126422250317, 157.04000000000002, 'age <= 30.5\\ngini = 0.469\\nsamples = 16\\nvalue = [10, 6]'),\n",
       " Text(88.1795195954488, 132.88, 'gini = 0.0\\nsamples = 2\\nvalue = [0, 2]'),\n",
       " Text(93.82300884955752, 132.88, 'age <= 34.5\\ngini = 0.408\\nsamples = 14\\nvalue = [10, 4]'),\n",
       " Text(91.00126422250317, 108.72000000000003, 'gini = 0.0\\nsamples = 5\\nvalue = [5, 0]'),\n",
       " Text(96.64475347661188, 108.72000000000003, 'region <= 1.5\\ngini = 0.494\\nsamples = 9\\nvalue = [5, 4]'),\n",
       " Text(93.82300884955752, 84.56000000000006, 'age <= 43.5\\ngini = 0.469\\nsamples = 8\\nvalue = [5, 3]'),\n",
       " Text(91.00126422250317, 60.40000000000009, 'age <= 41.5\\ngini = 0.48\\nsamples = 5\\nvalue = [2, 3]'),\n",
       " Text(88.1795195954488, 36.24000000000001, 'age <= 35.5\\ngini = 0.444\\nsamples = 3\\nvalue = [2, 1]'),\n",
       " Text(85.35777496839444, 12.080000000000041, 'gini = 0.0\\nsamples = 1\\nvalue = [0, 1]'),\n",
       " Text(91.00126422250317, 12.080000000000041, 'gini = 0.0\\nsamples = 2\\nvalue = [2, 0]'),\n",
       " Text(93.82300884955752, 36.24000000000001, 'gini = 0.0\\nsamples = 2\\nvalue = [0, 2]'),\n",
       " Text(96.64475347661188, 60.40000000000009, 'gini = 0.0\\nsamples = 3\\nvalue = [3, 0]'),\n",
       " Text(99.46649810366624, 84.56000000000006, 'gini = 0.0\\nsamples = 1\\nvalue = [0, 1]'),\n",
       " Text(102.28824273072061, 157.04000000000002, 'bmi <= 30.115\\ngini = 0.219\\nsamples = 16\\nvalue = [14, 2]'),\n",
       " Text(99.46649810366624, 132.88, 'gini = 0.0\\nsamples = 12\\nvalue = [12, 0]'),\n",
       " Text(105.10998735777497, 132.88, 'bmi <= 30.593\\ngini = 0.5\\nsamples = 4\\nvalue = [2, 2]'),\n",
       " Text(102.28824273072061, 108.72000000000003, 'gini = 0.0\\nsamples = 2\\nvalue = [0, 2]'),\n",
       " Text(107.93173198482933, 108.72000000000003, 'gini = 0.0\\nsamples = 2\\nvalue = [2, 0]'),\n",
       " Text(102.28824273072061, 181.20000000000005, 'gini = 0.0\\nsamples = 8\\nvalue = [8, 0]'),\n",
       " Text(110.7534766118837, 205.36000000000007, 'bmi <= 29.865\\ngini = 0.5\\nsamples = 4\\nvalue = [2, 2]'),\n",
       " Text(107.93173198482933, 181.20000000000005, 'gini = 0.0\\nsamples = 2\\nvalue = [0, 2]'),\n",
       " Text(113.57522123893806, 181.20000000000005, 'gini = 0.0\\nsamples = 2\\nvalue = [2, 0]'),\n",
       " Text(119.21871049304677, 229.52000000000004, 'bmi <= 27.682\\ngini = 0.1\\nsamples = 19\\nvalue = [18, 1]'),\n",
       " Text(116.39696586599241, 205.36000000000007, 'gini = 0.0\\nsamples = 1\\nvalue = [0, 1]'),\n",
       " Text(122.04045512010114, 205.36000000000007, 'gini = 0.0\\nsamples = 18\\nvalue = [18, 0]'),\n",
       " Text(117.80783817951959, 253.68000000000006, 'gini = 0.0\\nsamples = 1\\nvalue = [0, 1]'),\n",
       " Text(101.58280657395701, 326.16, 'gini = 0.0\\nsamples = 13\\nvalue = [13, 0]'),\n",
       " Text(129.09481668773705, 350.32000000000005, 'region <= 1.5\\ngini = 0.496\\nsamples = 11\\nvalue = [5, 6]'),\n",
       " Text(126.27307206068268, 326.16, 'age <= 25.0\\ngini = 0.408\\nsamples = 7\\nvalue = [5, 2]'),\n",
       " Text(123.45132743362832, 302.00000000000006, 'gini = 0.0\\nsamples = 1\\nvalue = [0, 1]'),\n",
       " Text(129.09481668773705, 302.00000000000006, 'age <= 47.5\\ngini = 0.278\\nsamples = 6\\nvalue = [5, 1]'),\n",
       " Text(126.27307206068268, 277.84000000000003, 'age <= 35.5\\ngini = 0.444\\nsamples = 3\\nvalue = [2, 1]'),\n",
       " Text(123.45132743362832, 253.68000000000006, 'gini = 0.0\\nsamples = 2\\nvalue = [2, 0]'),\n",
       " Text(129.09481668773705, 253.68000000000006, 'gini = 0.0\\nsamples = 1\\nvalue = [0, 1]'),\n",
       " Text(131.9165613147914, 277.84000000000003, 'gini = 0.0\\nsamples = 3\\nvalue = [3, 0]'),\n",
       " Text(131.9165613147914, 326.16, 'gini = 0.0\\nsamples = 4\\nvalue = [0, 4]'),\n",
       " Text(137.56005056890012, 374.4800000000001, 'children <= 2.5\\ngini = 0.087\\nsamples = 22\\nvalue = [21, 1]'),\n",
       " Text(134.73830594184577, 350.32000000000005, 'gini = 0.0\\nsamples = 17\\nvalue = [17, 0]'),\n",
       " Text(140.38179519595448, 350.32000000000005, 'bmi <= 33.718\\ngini = 0.32\\nsamples = 5\\nvalue = [4, 1]'),\n",
       " Text(137.56005056890012, 326.16, 'gini = 0.0\\nsamples = 2\\nvalue = [2, 0]'),\n",
       " Text(143.20353982300884, 326.16, 'bmi <= 34.212\\ngini = 0.444\\nsamples = 3\\nvalue = [2, 1]'),\n",
       " Text(140.38179519595448, 302.00000000000006, 'gini = 0.0\\nsamples = 1\\nvalue = [0, 1]'),\n",
       " Text(146.02528445006322, 302.00000000000006, 'gini = 0.0\\nsamples = 2\\nvalue = [2, 0]'),\n",
       " Text(175.65360303413402, 446.96000000000004, 'bmi <= 39.0\\ngini = 0.355\\nsamples = 78\\nvalue = [60, 18]'),\n",
       " Text(162.95575221238937, 422.80000000000007, 'bmi <= 38.89\\ngini = 0.425\\nsamples = 49\\nvalue = [34, 15]'),\n",
       " Text(160.134007585335, 398.64000000000004, 'bmi <= 35.577\\ngini = 0.413\\nsamples = 48\\nvalue = [34, 14]'),\n",
       " Text(148.84702907711758, 374.4800000000001, 'region <= 1.5\\ngini = 0.48\\nsamples = 5\\nvalue = [2, 3]'),\n",
       " Text(146.02528445006322, 350.32000000000005, 'gini = 0.0\\nsamples = 2\\nvalue = [0, 2]'),\n",
       " Text(151.66877370417194, 350.32000000000005, 'age <= 42.0\\ngini = 0.444\\nsamples = 3\\nvalue = [2, 1]'),\n",
       " Text(148.84702907711758, 326.16, 'gini = 0.0\\nsamples = 1\\nvalue = [1, 0]'),\n",
       " Text(154.4905183312263, 326.16, 'age <= 57.0\\ngini = 0.5\\nsamples = 2\\nvalue = [1, 1]'),\n",
       " Text(151.66877370417194, 302.00000000000006, 'gini = 0.0\\nsamples = 1\\nvalue = [0, 1]'),\n",
       " Text(157.31226295828066, 302.00000000000006, 'gini = 0.0\\nsamples = 1\\nvalue = [1, 0]'),\n",
       " Text(171.42098609355247, 374.4800000000001, 'bmi <= 35.995\\ngini = 0.381\\nsamples = 43\\nvalue = [32, 11]'),\n",
       " Text(168.5992414664981, 350.32000000000005, 'gini = 0.0\\nsamples = 8\\nvalue = [8, 0]'),\n",
       " Text(174.24273072060683, 350.32000000000005, 'region <= 0.5\\ngini = 0.431\\nsamples = 35\\nvalue = [24, 11]'),\n",
       " Text(165.77749683944376, 326.16, 'bmi <= 36.812\\ngini = 0.494\\nsamples = 9\\nvalue = [4, 5]'),\n",
       " Text(162.95575221238937, 302.00000000000006, 'gini = 0.0\\nsamples = 3\\nvalue = [0, 3]'),\n",
       " Text(168.5992414664981, 302.00000000000006, 'children <= 2.5\\ngini = 0.444\\nsamples = 6\\nvalue = [4, 2]'),\n",
       " Text(165.77749683944376, 277.84000000000003, 'age <= 33.0\\ngini = 0.32\\nsamples = 5\\nvalue = [4, 1]'),\n",
       " Text(162.95575221238937, 253.68000000000006, 'bmi <= 38.38\\ngini = 0.5\\nsamples = 2\\nvalue = [1, 1]'),\n",
       " Text(160.134007585335, 229.52000000000004, 'gini = 0.0\\nsamples = 1\\nvalue = [0, 1]'),\n",
       " Text(165.77749683944376, 229.52000000000004, 'gini = 0.0\\nsamples = 1\\nvalue = [1, 0]'),\n",
       " Text(168.5992414664981, 253.68000000000006, 'gini = 0.0\\nsamples = 3\\nvalue = [3, 0]'),\n",
       " Text(171.42098609355247, 277.84000000000003, 'gini = 0.0\\nsamples = 1\\nvalue = [0, 1]'),\n",
       " Text(182.7079646017699, 326.16, 'bmi <= 36.138\\ngini = 0.355\\nsamples = 26\\nvalue = [20, 6]'),\n",
       " Text(179.88621997471554, 302.00000000000006, 'gini = 0.0\\nsamples = 1\\nvalue = [0, 1]'),\n",
       " Text(185.52970922882426, 302.00000000000006, 'bmi <= 37.895\\ngini = 0.32\\nsamples = 25\\nvalue = [20, 5]'),\n",
       " Text(179.88621997471554, 277.84000000000003, 'bmi <= 36.908\\ngini = 0.245\\nsamples = 21\\nvalue = [18, 3]'),\n",
       " Text(177.0644753476612, 253.68000000000006, 'bmi <= 36.76\\ngini = 0.375\\nsamples = 12\\nvalue = [9, 3]'),\n",
       " Text(171.42098609355247, 229.52000000000004, 'region <= 1.5\\ngini = 0.198\\nsamples = 9\\nvalue = [8, 1]'),\n",
       " Text(168.5992414664981, 205.36000000000007, 'gini = 0.0\\nsamples = 5\\nvalue = [5, 0]'),\n",
       " Text(174.24273072060683, 205.36000000000007, 'children <= 1.5\\ngini = 0.375\\nsamples = 4\\nvalue = [3, 1]'),\n",
       " Text(171.42098609355247, 181.20000000000005, 'gini = 0.0\\nsamples = 1\\nvalue = [0, 1]'),\n",
       " Text(177.0644753476612, 181.20000000000005, 'gini = 0.0\\nsamples = 3\\nvalue = [3, 0]'),\n",
       " Text(182.7079646017699, 229.52000000000004, 'region <= 1.5\\ngini = 0.444\\nsamples = 3\\nvalue = [1, 2]'),\n",
       " Text(179.88621997471554, 205.36000000000007, 'gini = 0.0\\nsamples = 1\\nvalue = [0, 1]'),\n",
       " Text(185.52970922882426, 205.36000000000007, 'gini = 0.5\\nsamples = 2\\nvalue = [1, 1]'),\n",
       " Text(182.7079646017699, 253.68000000000006, 'gini = 0.0\\nsamples = 9\\nvalue = [9, 0]'),\n",
       " Text(191.173198482933, 277.84000000000003, 'age <= 33.0\\ngini = 0.5\\nsamples = 4\\nvalue = [2, 2]'),\n",
       " Text(188.35145385587865, 253.68000000000006, 'gini = 0.0\\nsamples = 2\\nvalue = [2, 0]'),\n",
       " Text(193.99494310998736, 253.68000000000006, 'gini = 0.0\\nsamples = 2\\nvalue = [0, 2]'),\n",
       " Text(165.77749683944376, 398.64000000000004, 'gini = 0.0\\nsamples = 1\\nvalue = [0, 1]'),\n",
       " Text(188.35145385587865, 422.80000000000007, 'bmi <= 43.615\\ngini = 0.185\\nsamples = 29\\nvalue = [26, 3]'),\n",
       " Text(179.88621997471554, 398.64000000000004, 'children <= 1.5\\ngini = 0.083\\nsamples = 23\\nvalue = [22, 1]'),\n",
       " Text(177.0644753476612, 374.4800000000001, 'gini = 0.0\\nsamples = 18\\nvalue = [18, 0]'),\n",
       " Text(182.7079646017699, 374.4800000000001, 'bmi <= 40.8\\ngini = 0.32\\nsamples = 5\\nvalue = [4, 1]'),\n",
       " Text(179.88621997471554, 350.32000000000005, 'gini = 0.0\\nsamples = 1\\nvalue = [0, 1]'),\n",
       " Text(185.52970922882426, 350.32000000000005, 'gini = 0.0\\nsamples = 4\\nvalue = [4, 0]'),\n",
       " Text(196.81668773704172, 398.64000000000004, 'age <= 45.0\\ngini = 0.444\\nsamples = 6\\nvalue = [4, 2]'),\n",
       " Text(193.99494310998736, 374.4800000000001, 'age <= 37.5\\ngini = 0.444\\nsamples = 3\\nvalue = [1, 2]'),\n",
       " Text(191.173198482933, 350.32000000000005, 'gini = 0.0\\nsamples = 1\\nvalue = [1, 0]'),\n",
       " Text(196.81668773704172, 350.32000000000005, 'gini = 0.0\\nsamples = 2\\nvalue = [0, 2]'),\n",
       " Text(199.63843236409608, 374.4800000000001, 'gini = 0.0\\nsamples = 3\\nvalue = [3, 0]'),\n",
       " Text(210.21997471554994, 543.6, 'age <= 19.5\\ngini = 0.167\\nsamples = 98\\nvalue = [89, 9]'),\n",
       " Text(202.46017699115043, 519.44, 'children <= 1.5\\ngini = 0.5\\nsamples = 6\\nvalue = [3, 3]'),\n",
       " Text(199.63843236409608, 495.2800000000001, 'bmi <= 28.35\\ngini = 0.48\\nsamples = 5\\nvalue = [3, 2]'),\n",
       " Text(196.81668773704172, 471.12000000000006, 'bmi <= 26.3\\ngini = 0.444\\nsamples = 3\\nvalue = [1, 2]'),\n",
       " Text(193.99494310998736, 446.96000000000004, 'gini = 0.0\\nsamples = 1\\nvalue = [1, 0]'),\n",
       " Text(199.63843236409608, 446.96000000000004, 'gini = 0.0\\nsamples = 2\\nvalue = [0, 2]'),\n",
       " Text(202.46017699115043, 471.12000000000006, 'gini = 0.0\\nsamples = 2\\nvalue = [2, 0]'),\n",
       " Text(205.2819216182048, 495.2800000000001, 'gini = 0.0\\nsamples = 1\\nvalue = [0, 1]'),\n",
       " Text(217.97977243994944, 519.44, 'age <= 37.5\\ngini = 0.122\\nsamples = 92\\nvalue = [86, 6]'),\n",
       " Text(215.15802781289506, 495.2800000000001, 'children <= 0.5\\ngini = 0.272\\nsamples = 37\\nvalue = [31, 6]'),\n",
       " Text(208.10366624525918, 471.12000000000006, 'age <= 22.5\\ngini = 0.415\\nsamples = 17\\nvalue = [12, 5]'),\n",
       " Text(205.2819216182048, 446.96000000000004, 'gini = 0.0\\nsamples = 7\\nvalue = [7, 0]'),\n",
       " Text(210.92541087231353, 446.96000000000004, 'bmi <= 29.65\\ngini = 0.5\\nsamples = 10\\nvalue = [5, 5]'),\n",
       " Text(205.2819216182048, 422.80000000000007, 'age <= 31.5\\ngini = 0.375\\nsamples = 4\\nvalue = [3, 1]'),\n",
       " Text(202.46017699115043, 398.64000000000004, 'gini = 0.0\\nsamples = 3\\nvalue = [3, 0]'),\n",
       " Text(208.10366624525918, 398.64000000000004, 'gini = 0.0\\nsamples = 1\\nvalue = [0, 1]'),\n",
       " Text(216.56890012642225, 422.80000000000007, 'bmi <= 32.4\\ngini = 0.444\\nsamples = 6\\nvalue = [2, 4]'),\n",
       " Text(213.7471554993679, 398.64000000000004, 'gini = 0.0\\nsamples = 3\\nvalue = [0, 3]'),\n",
       " Text(219.3906447534766, 398.64000000000004, 'age <= 32.5\\ngini = 0.444\\nsamples = 3\\nvalue = [2, 1]'),\n",
       " Text(216.56890012642225, 374.4800000000001, 'gini = 0.0\\nsamples = 2\\nvalue = [2, 0]'),\n",
       " Text(222.21238938053096, 374.4800000000001, 'gini = 0.0\\nsamples = 1\\nvalue = [0, 1]'),\n",
       " Text(222.21238938053096, 471.12000000000006, 'age <= 36.5\\ngini = 0.095\\nsamples = 20\\nvalue = [19, 1]'),\n",
       " Text(219.3906447534766, 446.96000000000004, 'gini = 0.0\\nsamples = 18\\nvalue = [18, 0]'),\n",
       " Text(225.03413400758532, 446.96000000000004, 'bmi <= 32.15\\ngini = 0.5\\nsamples = 2\\nvalue = [1, 1]'),\n",
       " Text(222.21238938053096, 422.80000000000007, 'gini = 0.0\\nsamples = 1\\nvalue = [1, 0]'),\n",
       " Text(227.8558786346397, 422.80000000000007, 'gini = 0.0\\nsamples = 1\\nvalue = [0, 1]'),\n",
       " Text(220.8015170670038, 495.2800000000001, 'gini = 0.0\\nsamples = 55\\nvalue = [55, 0]'),\n",
       " Text(236.32111251580278, 567.76, 'region <= 0.5\\ngini = 0.473\\nsamples = 13\\nvalue = [8, 5]'),\n",
       " Text(233.49936788874842, 543.6, 'gini = 0.0\\nsamples = 1\\nvalue = [0, 1]'),\n",
       " Text(239.14285714285714, 543.6, 'region <= 2.5\\ngini = 0.444\\nsamples = 12\\nvalue = [8, 4]'),\n",
       " Text(233.49936788874842, 519.44, 'bmi <= 28.547\\ngini = 0.245\\nsamples = 7\\nvalue = [6, 1]'),\n",
       " Text(230.67762326169407, 495.2800000000001, 'bmi <= 26.6\\ngini = 0.444\\nsamples = 3\\nvalue = [2, 1]'),\n",
       " Text(227.8558786346397, 471.12000000000006, 'gini = 0.0\\nsamples = 2\\nvalue = [2, 0]'),\n",
       " Text(233.49936788874842, 471.12000000000006, 'gini = 0.0\\nsamples = 1\\nvalue = [0, 1]'),\n",
       " Text(236.32111251580278, 495.2800000000001, 'gini = 0.0\\nsamples = 4\\nvalue = [4, 0]'),\n",
       " Text(244.78634639696585, 519.44, 'children <= 0.5\\ngini = 0.48\\nsamples = 5\\nvalue = [2, 3]'),\n",
       " Text(241.9646017699115, 495.2800000000001, 'bmi <= 34.75\\ngini = 0.444\\nsamples = 3\\nvalue = [2, 1]'),\n",
       " Text(239.14285714285714, 471.12000000000006, 'gini = 0.0\\nsamples = 1\\nvalue = [1, 0]'),\n",
       " Text(244.78634639696585, 471.12000000000006, 'bmi <= 38.7\\ngini = 0.5\\nsamples = 2\\nvalue = [1, 1]'),\n",
       " Text(241.9646017699115, 446.96000000000004, 'gini = 0.0\\nsamples = 1\\nvalue = [0, 1]'),\n",
       " Text(247.60809102402024, 446.96000000000004, 'gini = 0.0\\nsamples = 1\\nvalue = [1, 0]'),\n",
       " Text(247.60809102402024, 495.2800000000001, 'gini = 0.0\\nsamples = 2\\nvalue = [0, 2]'),\n",
       " Text(433.2921144121365, 616.08, 'bmi <= 34.102\\ngini = 0.364\\nsamples = 481\\nvalue = [366, 115]'),\n",
       " Text(377.62879266750946, 591.9200000000001, 'bmi <= 31.917\\ngini = 0.335\\nsamples = 334\\nvalue = [263, 71]'),\n",
       " Text(346.8100505689001, 567.76, 'bmi <= 31.64\\ngini = 0.354\\nsamples = 278\\nvalue = [214, 64]'),\n",
       " Text(307.7465233881163, 543.6, 'children <= 3.5\\ngini = 0.341\\nsamples = 271\\nvalue = [212, 59]'),\n",
       " Text(304.92477876106193, 519.44, 'age <= 23.5\\ngini = 0.352\\nsamples = 259\\nvalue = [200, 59]'),\n",
       " Text(263.1276864728192, 495.2800000000001, 'bmi <= 27.282\\ngini = 0.245\\nsamples = 56\\nvalue = [48, 8]'),\n",
       " Text(256.0733249051833, 471.12000000000006, 'age <= 18.5\\ngini = 0.117\\nsamples = 32\\nvalue = [30, 2]'),\n",
       " Text(253.25158027812896, 446.96000000000004, 'region <= 1.0\\ngini = 0.278\\nsamples = 12\\nvalue = [10, 2]'),\n",
       " Text(250.4298356510746, 422.80000000000007, 'bmi <= 21.517\\ngini = 0.375\\nsamples = 8\\nvalue = [6, 2]'),\n",
       " Text(247.60809102402024, 398.64000000000004, 'gini = 0.0\\nsamples = 2\\nvalue = [2, 0]'),\n",
       " Text(253.25158027812896, 398.64000000000004, 'bmi <= 22.278\\ngini = 0.444\\nsamples = 6\\nvalue = [4, 2]'),\n",
       " Text(250.4298356510746, 374.4800000000001, 'gini = 0.0\\nsamples = 1\\nvalue = [0, 1]'),\n",
       " Text(256.0733249051833, 374.4800000000001, 'bmi <= 24.462\\ngini = 0.32\\nsamples = 5\\nvalue = [4, 1]'),\n",
       " Text(253.25158027812896, 350.32000000000005, 'gini = 0.0\\nsamples = 3\\nvalue = [3, 0]'),\n",
       " Text(258.8950695322377, 350.32000000000005, 'bmi <= 25.317\\ngini = 0.5\\nsamples = 2\\nvalue = [1, 1]'),\n",
       " Text(256.0733249051833, 326.16, 'gini = 0.0\\nsamples = 1\\nvalue = [0, 1]'),\n",
       " Text(261.716814159292, 326.16, 'gini = 0.0\\nsamples = 1\\nvalue = [1, 0]'),\n",
       " Text(256.0733249051833, 422.80000000000007, 'gini = 0.0\\nsamples = 4\\nvalue = [4, 0]'),\n",
       " Text(258.8950695322377, 446.96000000000004, 'gini = 0.0\\nsamples = 20\\nvalue = [20, 0]'),\n",
       " Text(270.18204804045513, 471.12000000000006, 'bmi <= 27.767\\ngini = 0.375\\nsamples = 24\\nvalue = [18, 6]'),\n",
       " Text(264.5385587863464, 446.96000000000004, 'age <= 20.5\\ngini = 0.48\\nsamples = 5\\nvalue = [2, 3]'),\n",
       " Text(261.716814159292, 422.80000000000007, 'bmi <= 27.48\\ngini = 0.375\\nsamples = 4\\nvalue = [1, 3]'),\n",
       " Text(258.8950695322377, 398.64000000000004, 'gini = 0.0\\nsamples = 2\\nvalue = [0, 2]'),\n",
       " Text(264.5385587863464, 398.64000000000004, 'bmi <= 27.65\\ngini = 0.5\\nsamples = 2\\nvalue = [1, 1]'),\n",
       " Text(261.716814159292, 374.4800000000001, 'gini = 0.0\\nsamples = 1\\nvalue = [1, 0]'),\n",
       " Text(267.36030341340074, 374.4800000000001, 'gini = 0.0\\nsamples = 1\\nvalue = [0, 1]'),\n",
       " Text(267.36030341340074, 422.80000000000007, 'gini = 0.0\\nsamples = 1\\nvalue = [1, 0]'),\n",
       " Text(275.82553729456384, 446.96000000000004, 'children <= 0.5\\ngini = 0.266\\nsamples = 19\\nvalue = [16, 3]'),\n",
       " Text(273.00379266750946, 422.80000000000007, 'bmi <= 28.975\\ngini = 0.355\\nsamples = 13\\nvalue = [10, 3]'),\n",
       " Text(270.18204804045513, 398.64000000000004, 'gini = 0.0\\nsamples = 5\\nvalue = [5, 0]'),\n",
       " Text(275.82553729456384, 398.64000000000004, 'age <= 20.5\\ngini = 0.469\\nsamples = 8\\nvalue = [5, 3]'),\n",
       " Text(273.00379266750946, 374.4800000000001, 'age <= 18.5\\ngini = 0.48\\nsamples = 5\\nvalue = [2, 3]'),\n",
       " Text(270.18204804045513, 350.32000000000005, 'gini = 0.0\\nsamples = 1\\nvalue = [1, 0]'),\n",
       " Text(275.82553729456384, 350.32000000000005, 'bmi <= 30.42\\ngini = 0.375\\nsamples = 4\\nvalue = [1, 3]'),\n",
       " Text(273.00379266750946, 326.16, 'gini = 0.0\\nsamples = 2\\nvalue = [0, 2]'),\n",
       " Text(278.64728192161823, 326.16, 'age <= 19.5\\ngini = 0.5\\nsamples = 2\\nvalue = [1, 1]'),\n",
       " Text(275.82553729456384, 302.00000000000006, 'gini = 0.0\\nsamples = 1\\nvalue = [1, 0]'),\n",
       " Text(281.46902654867256, 302.00000000000006, 'gini = 0.0\\nsamples = 1\\nvalue = [0, 1]'),\n",
       " Text(278.64728192161823, 374.4800000000001, 'gini = 0.0\\nsamples = 3\\nvalue = [3, 0]'),\n",
       " Text(278.64728192161823, 422.80000000000007, 'gini = 0.0\\nsamples = 6\\nvalue = [6, 0]'),\n",
       " Text(346.7218710493047, 495.2800000000001, 'bmi <= 31.375\\ngini = 0.376\\nsamples = 203\\nvalue = [152, 51]'),\n",
       " Text(343.9001264222503, 471.12000000000006, 'age <= 24.5\\ngini = 0.386\\nsamples = 195\\nvalue = [144, 51]'),\n",
       " Text(318.85714285714283, 446.96000000000004, 'region <= 0.5\\ngini = 0.5\\nsamples = 6\\nvalue = [3, 3]'),\n",
       " Text(316.0353982300885, 422.80000000000007, 'gini = 0.0\\nsamples = 3\\nvalue = [0, 3]'),\n",
       " Text(321.6788874841972, 422.80000000000007, 'gini = 0.0\\nsamples = 3\\nvalue = [3, 0]'),\n",
       " Text(368.9431099873578, 446.96000000000004, 'region <= 1.5\\ngini = 0.379\\nsamples = 189\\nvalue = [141, 48]'),\n",
       " Text(327.32237673830593, 422.80000000000007, 'age <= 50.5\\ngini = 0.336\\nsamples = 117\\nvalue = [92, 25]'),\n",
       " Text(295.5777496839444, 398.64000000000004, 'bmi <= 22.8\\ngini = 0.278\\nsamples = 84\\nvalue = [70, 14]'),\n",
       " Text(292.75600505689, 374.4800000000001, 'gini = 0.0\\nsamples = 14\\nvalue = [14, 0]'),\n",
       " Text(298.39949431099876, 374.4800000000001, 'bmi <= 23.275\\ngini = 0.32\\nsamples = 70\\nvalue = [56, 14]'),\n",
       " Text(295.5777496839444, 350.32000000000005, 'gini = 0.0\\nsamples = 3\\nvalue = [0, 3]'),\n",
       " Text(301.2212389380531, 350.32000000000005, 'age <= 32.5\\ngini = 0.274\\nsamples = 67\\nvalue = [56, 11]'),\n",
       " Text(289.93426042983566, 326.16, 'bmi <= 24.557\\ngini = 0.153\\nsamples = 24\\nvalue = [22, 2]'),\n",
       " Text(287.1125158027813, 302.00000000000006, 'gini = 0.0\\nsamples = 1\\nvalue = [0, 1]'),\n",
       " Text(292.75600505689, 302.00000000000006, 'children <= 0.5\\ngini = 0.083\\nsamples = 23\\nvalue = [22, 1]'),\n",
       " Text(289.93426042983566, 277.84000000000003, 'bmi <= 28.69\\ngini = 0.198\\nsamples = 9\\nvalue = [8, 1]'),\n",
       " Text(287.1125158027813, 253.68000000000006, 'region <= 0.5\\ngini = 0.375\\nsamples = 4\\nvalue = [3, 1]'),\n",
       " Text(284.29077117572695, 229.52000000000004, 'gini = 0.0\\nsamples = 3\\nvalue = [3, 0]'),\n",
       " Text(289.93426042983566, 229.52000000000004, 'gini = 0.0\\nsamples = 1\\nvalue = [0, 1]'),\n",
       " Text(292.75600505689, 253.68000000000006, 'gini = 0.0\\nsamples = 5\\nvalue = [5, 0]'),\n",
       " Text(295.5777496839444, 277.84000000000003, 'gini = 0.0\\nsamples = 14\\nvalue = [14, 0]'),\n",
       " Text(312.5082174462705, 326.16, 'age <= 35.5\\ngini = 0.331\\nsamples = 43\\nvalue = [34, 9]'),\n",
       " Text(304.0429835651075, 302.00000000000006, 'bmi <= 24.7\\ngini = 0.5\\nsamples = 6\\nvalue = [3, 3]'),\n",
       " Text(301.2212389380531, 277.84000000000003, 'gini = 0.0\\nsamples = 2\\nvalue = [2, 0]'),\n",
       " Text(306.8647281921618, 277.84000000000003, 'bmi <= 26.505\\ngini = 0.375\\nsamples = 4\\nvalue = [1, 3]'),\n",
       " Text(304.0429835651075, 253.68000000000006, 'age <= 33.5\\ngini = 0.5\\nsamples = 2\\nvalue = [1, 1]'),\n",
       " Text(301.2212389380531, 229.52000000000004, 'gini = 0.0\\nsamples = 1\\nvalue = [0, 1]'),\n",
       " Text(306.8647281921618, 229.52000000000004, 'gini = 0.0\\nsamples = 1\\nvalue = [1, 0]'),\n",
       " Text(309.6864728192162, 253.68000000000006, 'gini = 0.0\\nsamples = 2\\nvalue = [0, 2]'),\n",
       " Text(320.9734513274336, 302.00000000000006, 'age <= 38.5\\ngini = 0.272\\nsamples = 37\\nvalue = [31, 6]'),\n",
       " Text(318.1517067003793, 277.84000000000003, 'gini = 0.0\\nsamples = 10\\nvalue = [10, 0]'),\n",
       " Text(323.795195954488, 277.84000000000003, 'age <= 39.5\\ngini = 0.346\\nsamples = 27\\nvalue = [21, 6]'),\n",
       " Text(315.3299620733249, 253.68000000000006, 'bmi <= 25.46\\ngini = 0.444\\nsamples = 3\\nvalue = [1, 2]'),\n",
       " Text(312.5082174462705, 229.52000000000004, 'gini = 0.0\\nsamples = 1\\nvalue = [1, 0]'),\n",
       " Text(318.1517067003793, 229.52000000000004, 'gini = 0.0\\nsamples = 2\\nvalue = [0, 2]'),\n",
       " Text(332.26042983565105, 253.68000000000006, 'bmi <= 30.638\\ngini = 0.278\\nsamples = 24\\nvalue = [20, 4]'),\n",
       " Text(323.795195954488, 229.52000000000004, 'age <= 46.5\\ngini = 0.188\\nsamples = 19\\nvalue = [17, 2]'),\n",
       " Text(320.9734513274336, 205.36000000000007, 'gini = 0.0\\nsamples = 11\\nvalue = [11, 0]'),\n",
       " Text(326.61694058154234, 205.36000000000007, 'region <= 0.5\\ngini = 0.375\\nsamples = 8\\nvalue = [6, 2]'),\n",
       " Text(323.795195954488, 181.20000000000005, 'gini = 0.0\\nsamples = 3\\nvalue = [3, 0]'),\n",
       " Text(329.4386852085967, 181.20000000000005, 'age <= 49.5\\ngini = 0.48\\nsamples = 5\\nvalue = [3, 2]'),\n",
       " Text(326.61694058154234, 157.04000000000002, 'bmi <= 29.023\\ngini = 0.444\\nsamples = 3\\nvalue = [1, 2]'),\n",
       " Text(323.795195954488, 132.88, 'gini = 0.0\\nsamples = 2\\nvalue = [0, 2]'),\n",
       " Text(329.4386852085967, 132.88, 'gini = 0.0\\nsamples = 1\\nvalue = [1, 0]'),\n",
       " Text(332.26042983565105, 157.04000000000002, 'gini = 0.0\\nsamples = 2\\nvalue = [2, 0]'),\n",
       " Text(340.72566371681415, 229.52000000000004, 'region <= 0.5\\ngini = 0.48\\nsamples = 5\\nvalue = [3, 2]'),\n",
       " Text(337.9039190897598, 205.36000000000007, 'age <= 46.5\\ngini = 0.444\\nsamples = 3\\nvalue = [1, 2]'),\n",
       " Text(335.08217446270544, 181.20000000000005, 'gini = 0.0\\nsamples = 2\\nvalue = [0, 2]'),\n",
       " Text(340.72566371681415, 181.20000000000005, 'gini = 0.0\\nsamples = 1\\nvalue = [1, 0]'),\n",
       " Text(343.54740834386854, 205.36000000000007, 'gini = 0.0\\nsamples = 2\\nvalue = [2, 0]'),\n",
       " Text(359.0670037926675, 398.64000000000004, 'children <= 2.5\\ngini = 0.444\\nsamples = 33\\nvalue = [22, 11]'),\n",
       " Text(356.24525916561316, 374.4800000000001, 'age <= 52.5\\ngini = 0.391\\nsamples = 30\\nvalue = [22, 8]'),\n",
       " Text(353.4235145385588, 350.32000000000005, 'gini = 0.0\\nsamples = 2\\nvalue = [0, 2]'),\n",
       " Text(359.0670037926675, 350.32000000000005, 'bmi <= 26.552\\ngini = 0.337\\nsamples = 28\\nvalue = [22, 6]'),\n",
       " Text(353.4235145385588, 326.16, 'bmi <= 20.805\\ngini = 0.153\\nsamples = 12\\nvalue = [11, 1]'),\n",
       " Text(350.60176991150445, 302.00000000000006, 'age <= 56.5\\ngini = 0.5\\nsamples = 2\\nvalue = [1, 1]'),\n",
       " Text(347.78002528445006, 277.84000000000003, 'gini = 0.0\\nsamples = 1\\nvalue = [0, 1]'),\n",
       " Text(353.4235145385588, 277.84000000000003, 'gini = 0.0\\nsamples = 1\\nvalue = [1, 0]'),\n",
       " Text(356.24525916561316, 302.00000000000006, 'gini = 0.0\\nsamples = 10\\nvalue = [10, 0]'),\n",
       " Text(364.7104930467762, 326.16, 'bmi <= 27.122\\ngini = 0.43\\nsamples = 16\\nvalue = [11, 5]'),\n",
       " Text(361.8887484197219, 302.00000000000006, 'gini = 0.0\\nsamples = 2\\nvalue = [0, 2]'),\n",
       " Text(367.5322376738306, 302.00000000000006, 'bmi <= 30.59\\ngini = 0.337\\nsamples = 14\\nvalue = [11, 3]'),\n",
       " Text(360.4778761061947, 277.84000000000003, 'children <= 0.5\\ngini = 0.278\\nsamples = 12\\nvalue = [10, 2]'),\n",
       " Text(354.83438685208597, 253.68000000000006, 'region <= 0.5\\ngini = 0.18\\nsamples = 10\\nvalue = [9, 1]'),\n",
       " Text(352.0126422250316, 229.52000000000004, 'bmi <= 29.64\\ngini = 0.32\\nsamples = 5\\nvalue = [4, 1]'),\n",
       " Text(349.19089759797725, 205.36000000000007, 'bmi <= 28.785\\ngini = 0.444\\nsamples = 3\\nvalue = [2, 1]'),\n",
       " Text(346.36915297092287, 181.20000000000005, 'gini = 0.0\\nsamples = 1\\nvalue = [1, 0]'),\n",
       " Text(352.0126422250316, 181.20000000000005, 'age <= 56.0\\ngini = 0.5\\nsamples = 2\\nvalue = [1, 1]'),\n",
       " Text(349.19089759797725, 157.04000000000002, 'gini = 0.0\\nsamples = 1\\nvalue = [1, 0]'),\n",
       " Text(354.83438685208597, 157.04000000000002, 'gini = 0.0\\nsamples = 1\\nvalue = [0, 1]'),\n",
       " Text(354.83438685208597, 205.36000000000007, 'gini = 0.0\\nsamples = 2\\nvalue = [2, 0]'),\n",
       " Text(357.65613147914036, 229.52000000000004, 'gini = 0.0\\nsamples = 5\\nvalue = [5, 0]'),\n",
       " Text(366.1213653603034, 253.68000000000006, 'age <= 61.5\\ngini = 0.5\\nsamples = 2\\nvalue = [1, 1]'),\n",
       " Text(363.29962073324907, 229.52000000000004, 'gini = 0.0\\nsamples = 1\\nvalue = [0, 1]'),\n",
       " Text(368.9431099873578, 229.52000000000004, 'gini = 0.0\\nsamples = 1\\nvalue = [1, 0]'),\n",
       " Text(374.5865992414665, 277.84000000000003, 'region <= 0.5\\ngini = 0.5\\nsamples = 2\\nvalue = [1, 1]'),\n",
       " Text(371.7648546144121, 253.68000000000006, 'gini = 0.0\\nsamples = 1\\nvalue = [0, 1]'),\n",
       " Text(377.4083438685209, 253.68000000000006, 'gini = 0.0\\nsamples = 1\\nvalue = [1, 0]'),\n",
       " Text(361.8887484197219, 374.4800000000001, 'gini = 0.0\\nsamples = 3\\nvalue = [0, 3]'),\n",
       " Text(410.5638432364096, 422.80000000000007, 'bmi <= 20.265\\ngini = 0.435\\nsamples = 72\\nvalue = [49, 23]'),\n",
       " Text(407.74209860935525, 398.64000000000004, 'gini = 0.0\\nsamples = 2\\nvalue = [0, 2]'),\n",
       " Text(413.38558786346397, 398.64000000000004, 'children <= 0.5\\ngini = 0.42\\nsamples = 70\\nvalue = [49, 21]'),\n",
       " Text(398.57142857142856, 374.4800000000001, 'bmi <= 29.805\\ngini = 0.32\\nsamples = 30\\nvalue = [24, 6]'),\n",
       " Text(391.51706700379265, 350.32000000000005, 'age <= 63.0\\ngini = 0.219\\nsamples = 24\\nvalue = [21, 3]'),\n",
       " Text(388.6953223767383, 326.16, 'bmi <= 21.15\\ngini = 0.159\\nsamples = 23\\nvalue = [21, 2]'),\n",
       " Text(383.0518331226296, 302.00000000000006, 'bmi <= 20.85\\ngini = 0.444\\nsamples = 3\\nvalue = [2, 1]'),\n",
       " Text(380.2300884955752, 277.84000000000003, 'gini = 0.0\\nsamples = 2\\nvalue = [2, 0]'),\n",
       " Text(385.87357774968393, 277.84000000000003, 'gini = 0.0\\nsamples = 1\\nvalue = [0, 1]'),\n",
       " Text(394.33881163084703, 302.00000000000006, 'age <= 28.0\\ngini = 0.095\\nsamples = 20\\nvalue = [19, 1]'),\n",
       " Text(391.51706700379265, 277.84000000000003, 'bmi <= 27.445\\ngini = 0.444\\nsamples = 3\\nvalue = [2, 1]'),\n",
       " Text(388.6953223767383, 253.68000000000006, 'gini = 0.0\\nsamples = 2\\nvalue = [2, 0]'),\n",
       " Text(394.33881163084703, 253.68000000000006, 'gini = 0.0\\nsamples = 1\\nvalue = [0, 1]'),\n",
       " Text(397.1605562579014, 277.84000000000003, 'gini = 0.0\\nsamples = 17\\nvalue = [17, 0]'),\n",
       " Text(394.33881163084703, 326.16, 'gini = 0.0\\nsamples = 1\\nvalue = [0, 1]'),\n",
       " Text(405.62579013906446, 350.32000000000005, 'age <= 29.0\\ngini = 0.5\\nsamples = 6\\nvalue = [3, 3]'),\n",
       " Text(402.80404551201013, 326.16, 'gini = 0.0\\nsamples = 1\\nvalue = [1, 0]'),\n",
       " Text(408.44753476611885, 326.16, 'age <= 50.0\\ngini = 0.48\\nsamples = 5\\nvalue = [2, 3]'),\n",
       " Text(405.62579013906446, 302.00000000000006, 'bmi <= 30.125\\ngini = 0.375\\nsamples = 4\\nvalue = [1, 3]'),\n",
       " Text(402.80404551201013, 277.84000000000003, 'gini = 0.0\\nsamples = 2\\nvalue = [0, 2]'),\n",
       " Text(408.44753476611885, 277.84000000000003, 'age <= 39.0\\ngini = 0.5\\nsamples = 2\\nvalue = [1, 1]'),\n",
       " Text(405.62579013906446, 253.68000000000006, 'gini = 0.0\\nsamples = 1\\nvalue = [1, 0]'),\n",
       " Text(411.2692793931732, 253.68000000000006, 'gini = 0.0\\nsamples = 1\\nvalue = [0, 1]'),\n",
       " Text(411.2692793931732, 302.00000000000006, 'gini = 0.0\\nsamples = 1\\nvalue = [1, 0]'),\n",
       " Text(428.1997471554994, 374.4800000000001, 'bmi <= 26.345\\ngini = 0.469\\nsamples = 40\\nvalue = [25, 15]'),\n",
       " Text(422.55625790139067, 350.32000000000005, 'bmi <= 25.035\\ngini = 0.473\\nsamples = 13\\nvalue = [5, 8]'),\n",
       " Text(419.7345132743363, 326.16, 'bmi <= 22.495\\ngini = 0.408\\nsamples = 7\\nvalue = [5, 2]'),\n",
       " Text(416.91276864728195, 302.00000000000006, 'gini = 0.0\\nsamples = 3\\nvalue = [3, 0]'),\n",
       " Text(422.55625790139067, 302.00000000000006, 'bmi <= 23.505\\ngini = 0.5\\nsamples = 4\\nvalue = [2, 2]'),\n",
       " Text(419.7345132743363, 277.84000000000003, 'gini = 0.0\\nsamples = 1\\nvalue = [0, 1]'),\n",
       " Text(425.378002528445, 277.84000000000003, 'children <= 2.5\\ngini = 0.444\\nsamples = 3\\nvalue = [2, 1]'),\n",
       " Text(422.55625790139067, 253.68000000000006, 'gini = 0.0\\nsamples = 2\\nvalue = [2, 0]'),\n",
       " Text(428.1997471554994, 253.68000000000006, 'gini = 0.0\\nsamples = 1\\nvalue = [0, 1]'),\n",
       " Text(425.378002528445, 326.16, 'gini = 0.0\\nsamples = 6\\nvalue = [0, 6]'),\n",
       " Text(433.8432364096081, 350.32000000000005, 'bmi <= 30.965\\ngini = 0.384\\nsamples = 27\\nvalue = [20, 7]'),\n",
       " Text(431.0214917825537, 326.16, 'bmi <= 27.805\\ngini = 0.355\\nsamples = 26\\nvalue = [20, 6]'),\n",
       " Text(428.1997471554994, 302.00000000000006, 'gini = 0.0\\nsamples = 6\\nvalue = [6, 0]'),\n",
       " Text(433.8432364096081, 302.00000000000006, 'bmi <= 28.135\\ngini = 0.42\\nsamples = 20\\nvalue = [14, 6]'),\n",
       " Text(431.0214917825537, 277.84000000000003, 'gini = 0.0\\nsamples = 1\\nvalue = [0, 1]'),\n",
       " Text(436.6649810366625, 277.84000000000003, 'age <= 25.5\\ngini = 0.388\\nsamples = 19\\nvalue = [14, 5]'),\n",
       " Text(433.8432364096081, 253.68000000000006, 'gini = 0.0\\nsamples = 1\\nvalue = [0, 1]'),\n",
       " Text(439.4867256637168, 253.68000000000006, 'bmi <= 30.25\\ngini = 0.346\\nsamples = 18\\nvalue = [14, 4]'),\n",
       " Text(436.6649810366625, 229.52000000000004, 'age <= 48.0\\ngini = 0.408\\nsamples = 14\\nvalue = [10, 4]'),\n",
       " Text(433.8432364096081, 205.36000000000007, 'bmi <= 28.915\\ngini = 0.48\\nsamples = 10\\nvalue = [6, 4]'),\n",
       " Text(428.1997471554994, 181.20000000000005, 'bmi <= 28.5\\ngini = 0.32\\nsamples = 5\\nvalue = [4, 1]'),\n",
       " Text(425.378002528445, 157.04000000000002, 'age <= 38.5\\ngini = 0.5\\nsamples = 2\\nvalue = [1, 1]'),\n",
       " Text(422.55625790139067, 132.88, 'gini = 0.0\\nsamples = 1\\nvalue = [1, 0]'),\n",
       " Text(428.1997471554994, 132.88, 'gini = 0.0\\nsamples = 1\\nvalue = [0, 1]'),\n",
       " Text(431.0214917825537, 157.04000000000002, 'gini = 0.0\\nsamples = 3\\nvalue = [3, 0]'),\n",
       " Text(439.4867256637168, 181.20000000000005, 'bmi <= 29.9\\ngini = 0.48\\nsamples = 5\\nvalue = [2, 3]'),\n",
       " Text(436.6649810366625, 157.04000000000002, 'gini = 0.0\\nsamples = 2\\nvalue = [0, 2]'),\n",
       " Text(442.3084702907712, 157.04000000000002, 'children <= 1.5\\ngini = 0.444\\nsamples = 3\\nvalue = [2, 1]'),\n",
       " Text(439.4867256637168, 132.88, 'gini = 0.0\\nsamples = 2\\nvalue = [2, 0]'),\n",
       " Text(445.1302149178255, 132.88, 'gini = 0.0\\nsamples = 1\\nvalue = [0, 1]'),\n",
       " Text(439.4867256637168, 205.36000000000007, 'gini = 0.0\\nsamples = 4\\nvalue = [4, 0]'),\n",
       " Text(442.3084702907712, 229.52000000000004, 'gini = 0.0\\nsamples = 4\\nvalue = [4, 0]'),\n",
       " Text(436.6649810366625, 326.16, 'gini = 0.0\\nsamples = 1\\nvalue = [0, 1]'),\n",
       " Text(349.543615676359, 471.12000000000006, 'gini = 0.0\\nsamples = 8\\nvalue = [8, 0]'),\n",
       " Text(310.56826801517064, 519.44, 'gini = 0.0\\nsamples = 12\\nvalue = [12, 0]'),\n",
       " Text(385.87357774968393, 543.6, 'age <= 57.5\\ngini = 0.408\\nsamples = 7\\nvalue = [2, 5]'),\n",
       " Text(383.0518331226296, 519.44, 'children <= 1.0\\ngini = 0.278\\nsamples = 6\\nvalue = [1, 5]'),\n",
       " Text(380.2300884955752, 495.2800000000001, 'bmi <= 31.778\\ngini = 0.444\\nsamples = 3\\nvalue = [1, 2]'),\n",
       " Text(377.4083438685209, 471.12000000000006, 'age <= 20.0\\ngini = 0.5\\nsamples = 2\\nvalue = [1, 1]'),\n",
       " Text(374.5865992414665, 446.96000000000004, 'gini = 0.0\\nsamples = 1\\nvalue = [0, 1]'),\n",
       " Text(380.2300884955752, 446.96000000000004, 'gini = 0.0\\nsamples = 1\\nvalue = [1, 0]'),\n",
       " Text(383.0518331226296, 471.12000000000006, 'gini = 0.0\\nsamples = 1\\nvalue = [0, 1]'),\n",
       " Text(385.87357774968393, 495.2800000000001, 'gini = 0.0\\nsamples = 3\\nvalue = [0, 3]'),\n",
       " Text(388.6953223767383, 519.44, 'gini = 0.0\\nsamples = 1\\nvalue = [1, 0]'),\n",
       " Text(408.44753476611885, 567.76, 'region <= 0.5\\ngini = 0.219\\nsamples = 56\\nvalue = [49, 7]'),\n",
       " Text(397.1605562579014, 543.6, 'age <= 39.0\\ngini = 0.397\\nsamples = 11\\nvalue = [8, 3]'),\n",
       " Text(394.33881163084703, 519.44, 'gini = 0.0\\nsamples = 2\\nvalue = [0, 2]'),\n",
       " Text(399.98230088495575, 519.44, 'age <= 50.5\\ngini = 0.198\\nsamples = 9\\nvalue = [8, 1]'),\n",
       " Text(397.1605562579014, 495.2800000000001, 'bmi <= 32.205\\ngini = 0.444\\nsamples = 3\\nvalue = [2, 1]'),\n",
       " Text(394.33881163084703, 471.12000000000006, 'gini = 0.0\\nsamples = 1\\nvalue = [1, 0]'),\n",
       " Text(399.98230088495575, 471.12000000000006, 'age <= 48.0\\ngini = 0.5\\nsamples = 2\\nvalue = [1, 1]'),\n",
       " Text(397.1605562579014, 446.96000000000004, 'gini = 0.0\\nsamples = 1\\nvalue = [1, 0]'),\n",
       " Text(402.80404551201013, 446.96000000000004, 'gini = 0.0\\nsamples = 1\\nvalue = [0, 1]'),\n",
       " Text(402.80404551201013, 495.2800000000001, 'gini = 0.0\\nsamples = 6\\nvalue = [6, 0]'),\n",
       " Text(419.7345132743363, 543.6, 'region <= 2.5\\ngini = 0.162\\nsamples = 45\\nvalue = [41, 4]'),\n",
       " Text(411.2692793931732, 519.44, 'age <= 25.5\\ngini = 0.057\\nsamples = 34\\nvalue = [33, 1]'),\n",
       " Text(408.44753476611885, 495.2800000000001, 'children <= 1.5\\ngini = 0.219\\nsamples = 8\\nvalue = [7, 1]'),\n",
       " Text(405.62579013906446, 471.12000000000006, 'gini = 0.0\\nsamples = 6\\nvalue = [6, 0]'),\n",
       " Text(411.2692793931732, 471.12000000000006, 'bmi <= 33.495\\ngini = 0.5\\nsamples = 2\\nvalue = [1, 1]'),\n",
       " Text(408.44753476611885, 446.96000000000004, 'gini = 0.0\\nsamples = 1\\nvalue = [0, 1]'),\n",
       " Text(414.09102402022756, 446.96000000000004, 'gini = 0.0\\nsamples = 1\\nvalue = [1, 0]'),\n",
       " Text(414.09102402022756, 495.2800000000001, 'gini = 0.0\\nsamples = 26\\nvalue = [26, 0]'),\n",
       " Text(428.1997471554994, 519.44, 'children <= 3.5\\ngini = 0.397\\nsamples = 11\\nvalue = [8, 3]'),\n",
       " Text(425.378002528445, 495.2800000000001, 'children <= 0.5\\ngini = 0.32\\nsamples = 10\\nvalue = [8, 2]'),\n",
       " Text(422.55625790139067, 471.12000000000006, 'bmi <= 32.95\\ngini = 0.5\\nsamples = 4\\nvalue = [2, 2]'),\n",
       " Text(419.7345132743363, 446.96000000000004, 'gini = 0.0\\nsamples = 2\\nvalue = [0, 2]'),\n",
       " Text(425.378002528445, 446.96000000000004, 'gini = 0.0\\nsamples = 2\\nvalue = [2, 0]'),\n",
       " Text(428.1997471554994, 471.12000000000006, 'gini = 0.0\\nsamples = 6\\nvalue = [6, 0]'),\n",
       " Text(431.0214917825537, 495.2800000000001, 'gini = 0.0\\nsamples = 1\\nvalue = [0, 1]'),\n",
       " Text(488.9554361567636, 591.9200000000001, 'bmi <= 36.685\\ngini = 0.419\\nsamples = 147\\nvalue = [103, 44]'),\n",
       " Text(462.2370417193426, 567.76, 'bmi <= 36.25\\ngini = 0.496\\nsamples = 55\\nvalue = [30, 25]'),\n",
       " Text(451.83185840707966, 543.6, 'region <= 1.5\\ngini = 0.486\\nsamples = 48\\nvalue = [28, 20]'),\n",
       " Text(439.4867256637168, 519.44, 'children <= 2.5\\ngini = 0.298\\nsamples = 11\\nvalue = [9, 2]'),\n",
       " Text(436.6649810366625, 495.2800000000001, 'bmi <= 34.247\\ngini = 0.18\\nsamples = 10\\nvalue = [9, 1]'),\n",
       " Text(433.8432364096081, 471.12000000000006, 'age <= 46.5\\ngini = 0.5\\nsamples = 2\\nvalue = [1, 1]'),\n",
       " Text(431.0214917825537, 446.96000000000004, 'gini = 0.0\\nsamples = 1\\nvalue = [1, 0]'),\n",
       " Text(436.6649810366625, 446.96000000000004, 'gini = 0.0\\nsamples = 1\\nvalue = [0, 1]'),\n",
       " Text(439.4867256637168, 471.12000000000006, 'gini = 0.0\\nsamples = 8\\nvalue = [8, 0]'),\n",
       " Text(442.3084702907712, 495.2800000000001, 'gini = 0.0\\nsamples = 1\\nvalue = [0, 1]'),\n",
       " Text(464.17699115044246, 519.44, 'bmi <= 36.195\\ngini = 0.5\\nsamples = 37\\nvalue = [19, 18]'),\n",
       " Text(461.35524652338813, 495.2800000000001, 'children <= 1.5\\ngini = 0.5\\nsamples = 35\\nvalue = [17, 18]'),\n",
       " Text(452.18457648546143, 471.12000000000006, 'age <= 27.5\\ngini = 0.476\\nsamples = 23\\nvalue = [9, 14]'),\n",
       " Text(442.3084702907712, 446.96000000000004, 'region <= 2.5\\ngini = 0.469\\nsamples = 8\\nvalue = [5, 3]'),\n",
       " Text(439.4867256637168, 422.80000000000007, 'gini = 0.0\\nsamples = 4\\nvalue = [4, 0]'),\n",
       " Text(445.1302149178255, 422.80000000000007, 'bmi <= 35.15\\ngini = 0.375\\nsamples = 4\\nvalue = [1, 3]'),\n",
       " Text(442.3084702907712, 398.64000000000004, 'gini = 0.0\\nsamples = 2\\nvalue = [0, 2]'),\n",
       " Text(447.9519595448799, 398.64000000000004, 'age <= 20.5\\ngini = 0.5\\nsamples = 2\\nvalue = [1, 1]'),\n",
       " Text(445.1302149178255, 374.4800000000001, 'gini = 0.0\\nsamples = 1\\nvalue = [1, 0]'),\n",
       " Text(450.77370417193424, 374.4800000000001, 'gini = 0.0\\nsamples = 1\\nvalue = [0, 1]'),\n",
       " Text(462.06068268015173, 446.96000000000004, 'bmi <= 34.305\\ngini = 0.391\\nsamples = 15\\nvalue = [4, 11]'),\n",
       " Text(459.23893805309734, 422.80000000000007, 'gini = 0.0\\nsamples = 1\\nvalue = [1, 0]'),\n",
       " Text(464.88242730720606, 422.80000000000007, 'age <= 63.5\\ngini = 0.337\\nsamples = 14\\nvalue = [3, 11]'),\n",
       " Text(462.06068268015173, 398.64000000000004, 'bmi <= 36.135\\ngini = 0.26\\nsamples = 13\\nvalue = [2, 11]'),\n",
       " Text(456.41719342604296, 374.4800000000001, 'age <= 52.5\\ngini = 0.165\\nsamples = 11\\nvalue = [1, 10]'),\n",
       " Text(453.5954487989886, 350.32000000000005, 'gini = 0.0\\nsamples = 8\\nvalue = [0, 8]'),\n",
       " Text(459.23893805309734, 350.32000000000005, 'region <= 2.5\\ngini = 0.444\\nsamples = 3\\nvalue = [1, 2]'),\n",
       " Text(456.41719342604296, 326.16, 'gini = 0.0\\nsamples = 2\\nvalue = [0, 2]'),\n",
       " Text(462.06068268015173, 326.16, 'gini = 0.0\\nsamples = 1\\nvalue = [1, 0]'),\n",
       " Text(467.70417193426044, 374.4800000000001, 'age <= 42.0\\ngini = 0.5\\nsamples = 2\\nvalue = [1, 1]'),\n",
       " Text(464.88242730720606, 350.32000000000005, 'gini = 0.0\\nsamples = 1\\nvalue = [1, 0]'),\n",
       " Text(470.5259165613148, 350.32000000000005, 'gini = 0.0\\nsamples = 1\\nvalue = [0, 1]'),\n",
       " Text(467.70417193426044, 398.64000000000004, 'gini = 0.0\\nsamples = 1\\nvalue = [1, 0]'),\n",
       " Text(470.5259165613148, 471.12000000000006, 'bmi <= 34.255\\ngini = 0.444\\nsamples = 12\\nvalue = [8, 4]'),\n",
       " Text(467.70417193426044, 446.96000000000004, 'gini = 0.0\\nsamples = 2\\nvalue = [0, 2]'),\n",
       " Text(473.34766118836916, 446.96000000000004, 'bmi <= 35.35\\ngini = 0.32\\nsamples = 10\\nvalue = [8, 2]'),\n",
       " Text(470.5259165613148, 422.80000000000007, 'gini = 0.0\\nsamples = 5\\nvalue = [5, 0]'),\n",
       " Text(476.1694058154235, 422.80000000000007, 'bmi <= 35.625\\ngini = 0.48\\nsamples = 5\\nvalue = [3, 2]'),\n",
       " Text(473.34766118836916, 398.64000000000004, 'gini = 0.0\\nsamples = 1\\nvalue = [0, 1]'),\n",
       " Text(478.9911504424779, 398.64000000000004, 'age <= 42.5\\ngini = 0.375\\nsamples = 4\\nvalue = [3, 1]'),\n",
       " Text(476.1694058154235, 374.4800000000001, 'gini = 0.0\\nsamples = 2\\nvalue = [2, 0]'),\n",
       " Text(481.81289506953226, 374.4800000000001, 'age <= 52.0\\ngini = 0.5\\nsamples = 2\\nvalue = [1, 1]'),\n",
       " Text(478.9911504424779, 350.32000000000005, 'gini = 0.0\\nsamples = 1\\nvalue = [0, 1]'),\n",
       " Text(484.6346396965866, 350.32000000000005, 'gini = 0.0\\nsamples = 1\\nvalue = [1, 0]'),\n",
       " Text(466.99873577749685, 495.2800000000001, 'gini = 0.0\\nsamples = 2\\nvalue = [2, 0]'),\n",
       " Text(472.64222503160556, 543.6, 'bmi <= 36.54\\ngini = 0.408\\nsamples = 7\\nvalue = [2, 5]'),\n",
       " Text(469.8204804045512, 519.44, 'gini = 0.0\\nsamples = 4\\nvalue = [0, 4]'),\n",
       " Text(475.46396965865995, 519.44, 'region <= 0.5\\ngini = 0.444\\nsamples = 3\\nvalue = [2, 1]'),\n",
       " Text(472.64222503160556, 495.2800000000001, 'gini = 0.0\\nsamples = 1\\nvalue = [0, 1]'),\n",
       " Text(478.2857142857143, 495.2800000000001, 'gini = 0.0\\nsamples = 2\\nvalue = [2, 0]'),\n",
       " Text(515.6738305941846, 567.76, 'children <= 1.5\\ngini = 0.328\\nsamples = 92\\nvalue = [73, 19]'),\n",
       " Text(495.921618204804, 543.6, 'age <= 27.5\\ngini = 0.228\\nsamples = 61\\nvalue = [53, 8]'),\n",
       " Text(490.2781289506953, 519.44, 'region <= 1.5\\ngini = 0.457\\nsamples = 17\\nvalue = [11, 6]'),\n",
       " Text(487.456384323641, 495.2800000000001, 'gini = 0.0\\nsamples = 3\\nvalue = [3, 0]'),\n",
       " Text(493.0998735777497, 495.2800000000001, 'bmi <= 37.455\\ngini = 0.49\\nsamples = 14\\nvalue = [8, 6]'),\n",
       " Text(490.2781289506953, 471.12000000000006, 'gini = 0.0\\nsamples = 2\\nvalue = [2, 0]'),\n",
       " Text(495.921618204804, 471.12000000000006, 'bmi <= 38.835\\ngini = 0.5\\nsamples = 12\\nvalue = [6, 6]'),\n",
       " Text(493.0998735777497, 446.96000000000004, 'gini = 0.0\\nsamples = 2\\nvalue = [0, 2]'),\n",
       " Text(498.7433628318584, 446.96000000000004, 'bmi <= 51.48\\ngini = 0.48\\nsamples = 10\\nvalue = [6, 4]'),\n",
       " Text(495.921618204804, 422.80000000000007, 'age <= 23.5\\ngini = 0.444\\nsamples = 9\\nvalue = [6, 3]'),\n",
       " Text(490.2781289506953, 398.64000000000004, 'bmi <= 43.945\\ngini = 0.278\\nsamples = 6\\nvalue = [5, 1]'),\n",
       " Text(487.456384323641, 374.4800000000001, 'gini = 0.0\\nsamples = 4\\nvalue = [4, 0]'),\n",
       " Text(493.0998735777497, 374.4800000000001, 'age <= 21.0\\ngini = 0.5\\nsamples = 2\\nvalue = [1, 1]'),\n",
       " Text(490.2781289506953, 350.32000000000005, 'gini = 0.0\\nsamples = 1\\nvalue = [0, 1]'),\n",
       " Text(495.921618204804, 350.32000000000005, 'gini = 0.0\\nsamples = 1\\nvalue = [1, 0]'),\n",
       " Text(501.5651074589128, 398.64000000000004, 'bmi <= 44.33\\ngini = 0.444\\nsamples = 3\\nvalue = [1, 2]'),\n",
       " Text(498.7433628318584, 374.4800000000001, 'gini = 0.0\\nsamples = 2\\nvalue = [0, 2]'),\n",
       " Text(504.3868520859671, 374.4800000000001, 'gini = 0.0\\nsamples = 1\\nvalue = [1, 0]'),\n",
       " Text(501.5651074589128, 422.80000000000007, 'gini = 0.0\\nsamples = 1\\nvalue = [0, 1]'),\n",
       " Text(501.5651074589128, 519.44, 'age <= 59.5\\ngini = 0.087\\nsamples = 44\\nvalue = [42, 2]'),\n",
       " Text(498.7433628318584, 495.2800000000001, 'gini = 0.0\\nsamples = 34\\nvalue = [34, 0]'),\n",
       " Text(504.3868520859671, 495.2800000000001, 'age <= 60.5\\ngini = 0.32\\nsamples = 10\\nvalue = [8, 2]'),\n",
       " Text(501.5651074589128, 471.12000000000006, 'gini = 0.0\\nsamples = 2\\nvalue = [0, 2]'),\n",
       " Text(507.2085967130215, 471.12000000000006, 'gini = 0.0\\nsamples = 8\\nvalue = [8, 0]'),\n",
       " Text(535.4260429835651, 543.6, 'age <= 46.5\\ngini = 0.458\\nsamples = 31\\nvalue = [20, 11]'),\n",
       " Text(521.3173198482933, 519.44, 'children <= 2.5\\ngini = 0.346\\nsamples = 18\\nvalue = [14, 4]'),\n",
       " Text(515.6738305941846, 495.2800000000001, 'region <= 2.5\\ngini = 0.153\\nsamples = 12\\nvalue = [11, 1]'),\n",
       " Text(512.8520859671302, 471.12000000000006, 'gini = 0.0\\nsamples = 10\\nvalue = [10, 0]'),\n",
       " Text(518.4955752212389, 471.12000000000006, 'age <= 37.0\\ngini = 0.5\\nsamples = 2\\nvalue = [1, 1]'),\n",
       " Text(515.6738305941846, 446.96000000000004, 'gini = 0.0\\nsamples = 1\\nvalue = [0, 1]'),\n",
       " Text(521.3173198482933, 446.96000000000004, 'gini = 0.0\\nsamples = 1\\nvalue = [1, 0]'),\n",
       " Text(526.960809102402, 495.2800000000001, 'bmi <= 37.91\\ngini = 0.5\\nsamples = 6\\nvalue = [3, 3]'),\n",
       " Text(524.1390644753477, 471.12000000000006, 'gini = 0.0\\nsamples = 2\\nvalue = [2, 0]'),\n",
       " Text(529.7825537294564, 471.12000000000006, 'bmi <= 43.12\\ngini = 0.375\\nsamples = 4\\nvalue = [1, 3]'),\n",
       " Text(526.960809102402, 446.96000000000004, 'gini = 0.0\\nsamples = 3\\nvalue = [0, 3]'),\n",
       " Text(532.6042983565108, 446.96000000000004, 'gini = 0.0\\nsamples = 1\\nvalue = [1, 0]'),\n",
       " Text(549.534766118837, 519.44, 'region <= 2.5\\ngini = 0.497\\nsamples = 13\\nvalue = [6, 7]'),\n",
       " Text(546.7130214917826, 495.2800000000001, 'bmi <= 38.225\\ngini = 0.463\\nsamples = 11\\nvalue = [4, 7]'),\n",
       " Text(541.0695322376738, 471.12000000000006, 'age <= 55.0\\ngini = 0.48\\nsamples = 5\\nvalue = [3, 2]'),\n",
       " Text(538.2477876106195, 446.96000000000004, 'gini = 0.0\\nsamples = 3\\nvalue = [3, 0]'),\n",
       " Text(543.8912768647282, 446.96000000000004, 'gini = 0.0\\nsamples = 2\\nvalue = [0, 2]'),\n",
       " Text(552.3565107458912, 471.12000000000006, 'age <= 58.5\\ngini = 0.278\\nsamples = 6\\nvalue = [1, 5]'),\n",
       " Text(549.534766118837, 446.96000000000004, 'gini = 0.0\\nsamples = 5\\nvalue = [0, 5]'),\n",
       " Text(555.1782553729456, 446.96000000000004, 'gini = 0.0\\nsamples = 1\\nvalue = [1, 0]'),\n",
       " Text(552.3565107458912, 495.2800000000001, 'gini = 0.0\\nsamples = 2\\nvalue = [2, 0]')]"
      ]
     },
     "execution_count": 30,
     "metadata": {},
     "output_type": "execute_result"
    },
    {
     "data": {
      "image/png": "[encoded data removed]",
      "text/plain": [
       "<Figure size 720x864 with 1 Axes>"
      ]
     },
     "metadata": {
      "needs_background": "light"
     },
     "output_type": "display_data"
    }
   ],
   "source": [
    "plt.figure(figsize=(10,12))\n",
    "tree.plot_tree(clf,filled=True,rounded=True,feature_names=x.columns)"
   ]
  },
  {
   "cell_type": "markdown",
   "id": "28f05da5",
   "metadata": {},
   "source": [
    "# Prediction for testing dataset"
   ]
  },
  {
   "cell_type": "code",
   "execution_count": 20,
   "id": "1e996f44",
   "metadata": {},
   "outputs": [],
   "source": [
    "pred= clf.predict(xtest)"
   ]
  },
  {
   "cell_type": "code",
   "execution_count": 21,
   "id": "978f98d3",
   "metadata": {},
   "outputs": [
    {
     "data": {
      "text/plain": [
       "array([0, 0, 1, 0, 0, 0, 0, 0, 0, 0, 0, 0, 0, 0, 0, 1, 0, 0, 0, 0, 0, 0,\n",
       "       0, 0, 0, 0, 0, 1, 0, 1, 0, 0, 1, 0, 1, 0, 1, 0, 0, 1, 1, 0, 0, 0,\n",
       "       0, 0, 0, 0, 0, 0, 0, 0, 0, 0, 0, 0, 0, 0, 1, 1, 0, 1, 1, 0, 0, 0,\n",
       "       0, 1, 1, 0, 0, 1, 0, 1, 0, 0, 0, 0, 1, 1, 1, 0, 0, 0, 1, 0, 0, 1,\n",
       "       0, 0, 1, 1, 1, 1, 1, 0, 0, 0, 1, 1, 1, 1, 1, 0, 0, 0, 0, 0, 1, 1,\n",
       "       0, 1, 0, 1, 0, 1, 0, 0, 0, 0, 0, 0, 0, 1, 0, 1, 0, 0, 0, 0, 0, 0,\n",
       "       0, 0, 1, 0, 0, 0, 0, 0, 0, 0, 0, 0, 0, 0, 0, 0, 0, 0, 0, 1, 0, 0,\n",
       "       0, 0, 0, 1, 0, 1, 1, 0, 1, 0, 1, 0, 0, 1, 0, 1, 0, 1, 0, 1, 0, 0,\n",
       "       0, 0, 0, 0, 0, 0, 0, 0, 0, 0, 1, 0, 0, 0, 0, 0, 0, 1, 1, 0, 0, 0,\n",
       "       1, 1, 0, 0, 0, 0, 0, 0, 1, 0, 0, 0, 0, 0, 0, 0, 0, 1, 1, 1, 0, 1,\n",
       "       0, 1, 1, 0, 0, 0, 1, 0, 0, 0, 0, 0, 0, 1, 0, 1, 1, 0, 0, 0, 0, 0,\n",
       "       0, 1, 0, 1, 0, 1, 0, 1, 0, 1, 0, 0, 1, 1, 0, 0, 0, 0, 0, 0, 0, 0,\n",
       "       0, 0, 1, 1, 0, 0, 0, 0, 1, 0, 1, 0, 0, 1, 1, 1, 0, 1, 1, 0, 0, 0,\n",
       "       1, 0, 0, 0, 1, 0, 0, 0, 0, 0, 1, 0, 0, 0, 0, 0, 0, 0, 1, 0, 1, 0,\n",
       "       0, 0, 0, 0, 1, 0, 0, 0, 0, 0, 1, 0, 0, 0, 0, 1, 0, 0, 0, 1, 1, 0,\n",
       "       0, 0, 0, 0, 0, 0, 0, 0, 0, 1, 0, 0, 1, 0, 0, 0, 1, 0, 1, 0, 0, 1,\n",
       "       1, 0, 0, 0, 1, 0, 0, 0, 0, 1, 0, 0, 0, 0, 1, 0, 0, 0, 0, 0, 0, 1,\n",
       "       1, 0, 1, 1, 0, 1, 0, 0, 0, 0, 1, 0, 0, 1, 0, 1, 0, 0, 0, 0, 0, 0,\n",
       "       1, 1, 0, 0, 1, 0])"
      ]
     },
     "execution_count": 21,
     "metadata": {},
     "output_type": "execute_result"
    }
   ],
   "source": [
    "pred"
   ]
  },
  {
   "cell_type": "code",
   "execution_count": 22,
   "id": "f89a855d",
   "metadata": {},
   "outputs": [
    {
     "data": {
      "text/plain": [
       "array([1])"
      ]
     },
     "execution_count": 22,
     "metadata": {},
     "output_type": "execute_result"
    }
   ],
   "source": [
    "clf.predict([[3,19,0,27.900,0]]) # yes=1"
   ]
  },
  {
   "cell_type": "code",
   "execution_count": 23,
   "id": "5d6928f9",
   "metadata": {},
   "outputs": [
    {
     "data": {
      "text/plain": [
       "array([0])"
      ]
     },
     "execution_count": 23,
     "metadata": {},
     "output_type": "execute_result"
    }
   ],
   "source": [
    "clf.predict([[1,32,1,28.880,0]])# no = 0"
   ]
  },
  {
   "cell_type": "markdown",
   "id": "fd7ec271",
   "metadata": {},
   "source": [
    "# Finding Mean Square error and Mean Absolute error"
   ]
  },
  {
   "cell_type": "code",
   "execution_count": 24,
   "id": "2e60694e",
   "metadata": {},
   "outputs": [
    {
     "data": {
      "text/plain": [
       "0.3681592039800995"
      ]
     },
     "execution_count": 24,
     "metadata": {},
     "output_type": "execute_result"
    }
   ],
   "source": [
    "from sklearn.metrics import mean_squared_error\n",
    "mse=mean_squared_error(ytest,pred)\n",
    "mse"
   ]
  },
  {
   "cell_type": "code",
   "execution_count": 25,
   "id": "dd53645b",
   "metadata": {},
   "outputs": [
    {
     "data": {
      "text/plain": [
       "0.3681592039800995"
      ]
     },
     "execution_count": 25,
     "metadata": {},
     "output_type": "execute_result"
    }
   ],
   "source": [
    "from sklearn.metrics import mean_absolute_error\n",
    "mae=mean_absolute_error(ytest,pred)\n",
    "mse"
   ]
  },
  {
   "cell_type": "markdown",
   "id": "302a5438",
   "metadata": {},
   "source": [
    "# Finding accuracy"
   ]
  },
  {
   "cell_type": "code",
   "execution_count": 28,
   "id": "52d29b2f",
   "metadata": {},
   "outputs": [
    {
     "data": {
      "text/plain": [
       "0.9989316239316239"
      ]
     },
     "execution_count": 28,
     "metadata": {},
     "output_type": "execute_result"
    }
   ],
   "source": [
    "clf.score(xtrain, ytrain)"
   ]
  },
  {
   "cell_type": "code",
   "execution_count": 29,
   "id": "35ccac49",
   "metadata": {},
   "outputs": [
    {
     "data": {
      "text/plain": [
       "0.6318407960199005"
      ]
     },
     "execution_count": 29,
     "metadata": {},
     "output_type": "execute_result"
    }
   ],
   "source": [
    "clf.score(xtest, ytest)"
   ]
  }
 ],
 "metadata": {
  "kernelspec": {
   "display_name": "Python 3 (ipykernel)",
   "language": "python",
   "name": "python3"
  },
  "language_info": {
   "codemirror_mode": {
    "name": "ipython",
    "version": 3
   },
   "file_extension": ".py",
   "mimetype": "text/x-python",
   "name": "python",
   "nbconvert_exporter": "python",
   "pygments_lexer": "ipython3",
   "version": "3.9.7"
  }
 },
 "nbformat": 4,
 "nbformat_minor": 5
}
